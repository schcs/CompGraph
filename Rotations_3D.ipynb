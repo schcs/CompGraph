{
 "cells": [
  {
   "cell_type": "code",
   "execution_count": 1,
   "id": "1e3002af",
   "metadata": {},
   "outputs": [
    {
     "data": {
      "text/plain": [
       "cross_prod_matrix (generic function with 1 method)"
      ]
     },
     "execution_count": 1,
     "metadata": {},
     "output_type": "execute_result"
    }
   ],
   "source": [
    "using LinearAlgebra\n",
    "\n",
    "function cross_prod_matrix( k )\n",
    "    return [ 0  -k[3] k[2];  \n",
    "            k[3] 0   -k[1]; \n",
    "           -k[2] k[1] 0 ]\n",
    "end "
   ]
  },
  {
   "cell_type": "code",
   "execution_count": 2,
   "id": "1dcb68a7",
   "metadata": {},
   "outputs": [
    {
     "data": {
      "text/plain": [
       "rot_matrix_3d_transform (generic function with 1 method)"
      ]
     },
     "execution_count": 2,
     "metadata": {},
     "output_type": "execute_result"
    }
   ],
   "source": [
    "function rot_matrix_3d_transform( k, theta )\n",
    "    mat0 = [ 1 0          0; \n",
    "             0 cos(theta) -sin(theta); \n",
    "             0 sin(theta) cos( theta )]\n",
    "    \n",
    "    if isapprox( k[1], 0.0 ) && isapprox( k[2], 0.0 )\n",
    "        u = [ 0.0, 0.0, 1.0 ]\n",
    "    else \n",
    "        u = [ k[2], -k[1], 0 ]\n",
    "        u /= norm( u )\n",
    "    end \n",
    "    \n",
    "    v = cross( k, u )\n",
    "    trans = hcat( k, u, v )\n",
    "    return trans*mat0*transpose( trans )\n",
    "end "
   ]
  },
  {
   "cell_type": "code",
   "execution_count": 3,
   "id": "b8cdb6f9",
   "metadata": {},
   "outputs": [
    {
     "data": {
      "text/plain": [
       "rot_matrix_3d (generic function with 1 method)"
      ]
     },
     "execution_count": 3,
     "metadata": {},
     "output_type": "execute_result"
    }
   ],
   "source": [
    "function rot_matrix_3d( k, theta )\n",
    "    \n",
    "    K = cross_prod_matrix( k )\n",
    "    return I + sin(theta)K + (1-cos(theta))K^2\n",
    "end "
   ]
  },
  {
   "cell_type": "code",
   "execution_count": 4,
   "id": "279c4251",
   "metadata": {},
   "outputs": [
    {
     "data": {
      "text/plain": [
       "3-element Vector{Float64}:\n",
       "  0.8121952090018213\n",
       " -0.25989258345431376\n",
       " -0.5222976043788928"
      ]
     },
     "execution_count": 4,
     "metadata": {},
     "output_type": "execute_result"
    }
   ],
   "source": [
    "k = [ rand()- .5 for x in 1:3 ]\n",
    "k = k/norm(k)\n",
    "theta = 2*pi*rand()\n",
    "k"
   ]
  },
  {
   "cell_type": "code",
   "execution_count": 15,
   "id": "1c38c2a4",
   "metadata": {},
   "outputs": [
    {
     "name": "stdout",
     "output_type": "stream",
     "text": [
      "  0.000030 seconds (31 allocations: 1.781 KiB)\n"
     ]
    },
    {
     "data": {
      "text/plain": [
       "3×3 Matrix{Float64}:\n",
       "  0.998305   -0.0531189  0.0237953\n",
       "  0.051016    0.995355   0.0816433\n",
       " -0.0280216  -0.0802909  0.996378"
      ]
     },
     "execution_count": 15,
     "metadata": {},
     "output_type": "execute_result"
    }
   ],
   "source": [
    "@time R1 = rot_matrix_3d_transform( k, theta )"
   ]
  },
  {
   "cell_type": "code",
   "execution_count": 26,
   "id": "9b509220",
   "metadata": {},
   "outputs": [
    {
     "name": "stdout",
     "output_type": "stream",
     "text": [
      "  0.000013 seconds (28 allocations: 1.719 KiB)\n"
     ]
    },
    {
     "data": {
      "text/plain": [
       "3×3 Matrix{Float64}:\n",
       "  0.998305   -0.0531189  0.0237953\n",
       "  0.051016    0.995355   0.0816433\n",
       " -0.0280216  -0.0802909  0.996378"
      ]
     },
     "execution_count": 26,
     "metadata": {},
     "output_type": "execute_result"
    }
   ],
   "source": [
    "@time R2 = rot_matrix_3d( k, theta )\n",
    "@assert isapprox( R1, R2 )\n",
    "R2"
   ]
  },
  {
   "cell_type": "code",
   "execution_count": 17,
   "id": "1414d9e4",
   "metadata": {},
   "outputs": [
    {
     "data": {
      "text/plain": [
       "params_rotation_3d (generic function with 1 method)"
      ]
     },
     "execution_count": 17,
     "metadata": {},
     "output_type": "execute_result"
    }
   ],
   "source": [
    "function params_rotation_3d( R )\n",
    "   \n",
    "    theta = acos( (R[1,1] + R[2,2] + R[3,3] -1 )/2 )\n",
    "    k1 = (R[3,2]-R[2,3])/(2*sin(theta))\n",
    "    k2 = (R[1,3]-R[3,1])/(2*sin(theta))\n",
    "    k3 = (R[2,1]-R[1,2])/(2*sin(theta))\n",
    "    \n",
    "    return [k1, k2, k3], theta\n",
    "end"
   ]
  },
  {
   "cell_type": "code",
   "execution_count": 19,
   "id": "69a97086",
   "metadata": {},
   "outputs": [
    {
     "name": "stdout",
     "output_type": "stream",
     "text": [
      "  0.000017 seconds (8 allocations: 272 bytes)\n"
     ]
    },
    {
     "data": {
      "text/plain": [
       "([-0.8121952090018223, 0.2598925834543141, 0.5222976043788935], 0.09985507593074786)"
      ]
     },
     "execution_count": 19,
     "metadata": {},
     "output_type": "execute_result"
    }
   ],
   "source": [
    "@time kk, th = params_rotation_3d( R1 )\n"
   ]
  },
  {
   "cell_type": "code",
   "execution_count": 20,
   "id": "741e1636",
   "metadata": {},
   "outputs": [
    {
     "data": {
      "text/plain": [
       "([-0.8121952090018222, 0.25989258345431404, 0.5222976043788934], 0.09985507593074786)"
      ]
     },
     "execution_count": 20,
     "metadata": {},
     "output_type": "execute_result"
    }
   ],
   "source": [
    "params_rotation_3d( R2 )"
   ]
  },
  {
   "cell_type": "code",
   "execution_count": 30,
   "id": "0cb4db05",
   "metadata": {},
   "outputs": [
    {
     "name": "stdout",
     "output_type": "stream",
     "text": [
      "  0.000012 seconds (4 allocations: 352 bytes)\n"
     ]
    },
    {
     "data": {
      "text/plain": [
       "8.357819026304529e-19"
      ]
     },
     "execution_count": 30,
     "metadata": {},
     "output_type": "execute_result"
    }
   ],
   "source": [
    "#id = Matrix( I, 3, 3 )\n",
    "@time det( R1-I )"
   ]
  },
  {
   "cell_type": "code",
   "execution_count": null,
   "id": "6eb397db",
   "metadata": {},
   "outputs": [],
   "source": []
  }
 ],
 "metadata": {
  "kernelspec": {
   "display_name": "Julia 1.7.2",
   "language": "julia",
   "name": "julia-1.7"
  },
  "language_info": {
   "file_extension": ".jl",
   "mimetype": "application/julia",
   "name": "julia",
   "version": "1.7.2"
  }
 },
 "nbformat": 4,
 "nbformat_minor": 5
}
