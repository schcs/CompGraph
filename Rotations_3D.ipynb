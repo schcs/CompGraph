{
 "cells": [
  {
   "cell_type": "code",
   "execution_count": 39,
   "id": "66113c85",
   "metadata": {},
   "outputs": [
    {
     "data": {
      "text/plain": [
       "cross_prod_matrix (generic function with 1 method)"
      ]
     },
     "execution_count": 39,
     "metadata": {},
     "output_type": "execute_result"
    }
   ],
   "source": [
    "using LinearAlgebra\n",
    "\n",
    "function cross_prod_matrix( k )\n",
    "    return [ 0  -k[3] k[2];  \n",
    "            k[3] 0   -k[1]; \n",
    "           -k[2] k[1] 0 ]\n",
    "end "
   ]
  },
  {
   "cell_type": "code",
   "execution_count": 40,
   "id": "c7bce8b3",
   "metadata": {},
   "outputs": [
    {
     "data": {
      "text/plain": [
       "rot_matrix_3d_transform (generic function with 1 method)"
      ]
     },
     "execution_count": 40,
     "metadata": {},
     "output_type": "execute_result"
    }
   ],
   "source": [
    "function rot_matrix_3d_transform( k, theta )\n",
    "    mat0 = [ 1 0          0; \n",
    "             0 cos(theta) -sin(theta); \n",
    "             0 sin(theta) cos( theta )]\n",
    "    \n",
    "    if isapprox( k[1], 0.0 ) && isapprox( k[2], 0.0 )\n",
    "        u = [ 0.0, 0.0, 1.0 ]\n",
    "    else \n",
    "        u = [ k[2], -k[1], 0 ]\n",
    "        u /= norm( u )\n",
    "    end \n",
    "    \n",
    "    v = cross( k, u )\n",
    "    trans = hcat( k, u, v )\n",
    "    return trans*mat0*transpose( trans )\n",
    "end "
   ]
  },
  {
   "cell_type": "code",
   "execution_count": 41,
   "id": "0356a2ed",
   "metadata": {},
   "outputs": [
    {
     "data": {
      "text/plain": [
       "rot_matrix_3d (generic function with 1 method)"
      ]
     },
     "execution_count": 41,
     "metadata": {},
     "output_type": "execute_result"
    }
   ],
   "source": [
    "function rot_matrix_3d( k, theta )\n",
    "    \n",
    "    K = cross_prod_matrix( k )\n",
    "    return I + sin(theta)K + (1-cos(theta))K^2\n",
    "end "
   ]
  },
  {
   "cell_type": "code",
   "execution_count": 42,
   "id": "da9e25ea",
   "metadata": {},
   "outputs": [
    {
     "data": {
      "text/plain": [
       "rot_z_theta (generic function with 1 method)"
      ]
     },
     "execution_count": 42,
     "metadata": {},
     "output_type": "execute_result"
    }
   ],
   "source": [
    "rot_x_theta( theta ) = rot_matrix_3d( [1.0, 0.0, 0.0], theta )\n",
    "rot_y_theta( theta ) = rot_matrix_3d( [0.0, 1.0, 0.0], theta )\n",
    "rot_z_theta( theta ) = rot_matrix_3d( [0.0, 0.0, 1.0], theta )    "
   ]
  },
  {
   "cell_type": "code",
   "execution_count": 235,
   "id": "bfc82f41",
   "metadata": {},
   "outputs": [
    {
     "data": {
      "text/plain": [
       "rand_rot_3d (generic function with 1 method)"
      ]
     },
     "execution_count": 235,
     "metadata": {},
     "output_type": "execute_result"
    }
   ],
   "source": [
    "function rand_rot_3d()\n",
    "\n",
    "    k = [ rand()- .5 for x in 1:3 ]\n",
    "    k = k/norm(k)\n",
    "    theta = 2*pi*rand()\n",
    "    return rot_matrix_3d( k, theta )\n",
    "end"
   ]
  },
  {
   "cell_type": "code",
   "execution_count": 236,
   "id": "168ec3ef",
   "metadata": {},
   "outputs": [
    {
     "data": {
      "text/plain": [
       "params_rotation_3d (generic function with 1 method)"
      ]
     },
     "execution_count": 236,
     "metadata": {},
     "output_type": "execute_result"
    }
   ],
   "source": [
    "function params_rotation_3d( R )\n",
    "   \n",
    "    theta = acos( (R[1,1] + R[2,2] + R[3,3] -1 )/2 )\n",
    "    k1 = (R[3,2]-R[2,3])/(2*sin(theta))\n",
    "    k2 = (R[1,3]-R[3,1])/(2*sin(theta))\n",
    "    k3 = (R[2,1]-R[1,2])/(2*sin(theta))\n",
    "    \n",
    "    return [k1, k2, k3], theta\n",
    "end"
   ]
  },
  {
   "cell_type": "code",
   "execution_count": 261,
   "id": "63561d1d",
   "metadata": {},
   "outputs": [
    {
     "data": {
      "text/plain": [
       "zxz_angles (generic function with 1 method)"
      ]
     },
     "execution_count": 261,
     "metadata": {},
     "output_type": "execute_result"
    }
   ],
   "source": [
    "function zxz_angles( R ) \n",
    "    \n",
    "    theta = acos( R[3,3] )\n",
    "    \n",
    "    phi = pi/2#asin( R[3,1]/sin(theta) ); \n",
    "    if !isapprox( R[3,2], sin(theta)*cos(phi))\n",
    "            phi = pi-phi\n",
    "    end\n",
    "    \n",
    "    psi = -pi/2#asin( R[1,3]/sin(theta))\n",
    "    if !isapprox( R[2,3], -cos(psi)*sin(theta)) \n",
    "        psi = pi-psi\n",
    "    end \n",
    "    \n",
    "    return phi, theta, psi\n",
    "end"
   ]
  },
  {
   "cell_type": "code",
   "execution_count": 240,
   "id": "cec165da",
   "metadata": {},
   "outputs": [
    {
     "data": {
      "text/plain": [
       "zyx_angles (generic function with 1 method)"
      ]
     },
     "execution_count": 240,
     "metadata": {},
     "output_type": "execute_result"
    }
   ],
   "source": [
    "function zyx_angles( R )\n",
    "    theta = asin( -R[3,1] )\n",
    "    phi = asin( R[3,2]/cos(theta))\n",
    "    \n",
    "    if !isapprox( cos(phi)*cos(theta), R[3,3] )\n",
    "        phi = pi-phi\n",
    "    end \n",
    "    \n",
    "    psi = asin( R[2,1]/cos(theta))\n",
    "    \n",
    "    if !isapprox( cos(theta)*cos(psi), R[1,1])\n",
    "        psi = pi-psi\n",
    "    end\n",
    "    \n",
    "    return phi, theta, psi\n",
    "end"
   ]
  },
  {
   "cell_type": "code",
   "execution_count": 241,
   "id": "76b54a31",
   "metadata": {},
   "outputs": [
    {
     "data": {
      "text/plain": [
       "3×3 Matrix{Float64}:\n",
       " -0.715848  0.628278   0.304678\n",
       "  0.630283  0.393617   0.669185\n",
       "  0.300508  0.671068  -0.677763"
      ]
     },
     "execution_count": 241,
     "metadata": {},
     "output_type": "execute_result"
    }
   ],
   "source": [
    "R = rand_rot_3d()"
   ]
  },
  {
   "cell_type": "code",
   "execution_count": 244,
   "id": "1cb2dcc5",
   "metadata": {},
   "outputs": [
    {
     "data": {
      "text/plain": [
       "3×3 Matrix{Float64}:\n",
       " -0.715848  0.628278   0.304678\n",
       "  0.630283  0.393617   0.669185\n",
       "  0.300508  0.671068  -0.677763"
      ]
     },
     "execution_count": 244,
     "metadata": {},
     "output_type": "execute_result"
    }
   ],
   "source": [
    "phi, theta, psi = zyx_angles( R )\n",
    "rot_z_theta( psi )*rot_y_theta( theta )*rot_x_theta( phi )"
   ]
  },
  {
   "cell_type": "code",
   "execution_count": 246,
   "id": "bf983627",
   "metadata": {},
   "outputs": [
    {
     "data": {
      "text/plain": [
       "3×3 Matrix{Float64}:\n",
       " -0.715848  0.628278   0.304678\n",
       "  0.630283  0.393617   0.669185\n",
       "  0.300508  0.671068  -0.677763"
      ]
     },
     "execution_count": 246,
     "metadata": {},
     "output_type": "execute_result"
    }
   ],
   "source": [
    "phi, theta, psi = zxz_angles( R )\n",
    "rot_z_theta( psi )*rot_x_theta( theta )*rot_z_theta( phi )"
   ]
  },
  {
   "cell_type": "code",
   "execution_count": 250,
   "id": "a9578274",
   "metadata": {},
   "outputs": [
    {
     "data": {
      "text/plain": [
       "3×3 Matrix{Float64}:\n",
       " 0.90041   0.0  -0.435043\n",
       " 0.0       1.0   0.0\n",
       " 0.435043  0.0   0.90041"
      ]
     },
     "execution_count": 250,
     "metadata": {},
     "output_type": "execute_result"
    }
   ],
   "source": [
    "r = rot_y_theta( 2pi*rand() )"
   ]
  },
  {
   "cell_type": "code",
   "execution_count": 262,
   "id": "e37b4d6f",
   "metadata": {},
   "outputs": [
    {
     "data": {
      "text/plain": [
       "3×3 Matrix{Float64}:\n",
       "  0.90041      3.2201e-16   -0.435043\n",
       " -3.10953e-16  1.0           9.65989e-17\n",
       "  0.435043     4.82994e-17   0.90041"
      ]
     },
     "execution_count": 262,
     "metadata": {},
     "output_type": "execute_result"
    }
   ],
   "source": [
    "phi, theta, psi = zxz_angles( r )\n",
    "rot_z_theta( psi )*rot_x_theta( theta )*rot_z_theta( phi )"
   ]
  },
  {
   "cell_type": "code",
   "execution_count": 253,
   "id": "f2cb2a09",
   "metadata": {},
   "outputs": [
    {
     "data": {
      "text/plain": [
       "true"
      ]
     },
     "execution_count": 253,
     "metadata": {},
     "output_type": "execute_result"
    }
   ],
   "source": [
    "isapprox(1.0000000000000002, 1 )"
   ]
  },
  {
   "cell_type": "code",
   "execution_count": 263,
   "id": "09effd4f",
   "metadata": {},
   "outputs": [
    {
     "data": {
      "text/plain": [
       "(1.5707963267948966, 0.450085557520617, 4.71238898038469)"
      ]
     },
     "execution_count": 263,
     "metadata": {},
     "output_type": "execute_result"
    }
   ],
   "source": [
    "phi, theta, psi"
   ]
  },
  {
   "cell_type": "code",
   "execution_count": 264,
   "id": "10aabce3",
   "metadata": {},
   "outputs": [
    {
     "data": {
      "text/plain": [
       "1.5707963267948966"
      ]
     },
     "execution_count": 264,
     "metadata": {},
     "output_type": "execute_result"
    }
   ],
   "source": [
    "pi/2"
   ]
  },
  {
   "cell_type": "code",
   "execution_count": null,
   "id": "c0ee75ab",
   "metadata": {},
   "outputs": [],
   "source": []
  }
 ],
 "metadata": {
  "kernelspec": {
   "display_name": "Julia 1.7.2",
   "language": "julia",
   "name": "julia-1.7"
  },
  "language_info": {
   "file_extension": ".jl",
   "mimetype": "application/julia",
   "name": "julia",
   "version": "1.7.2"
  }
 },
 "nbformat": 4,
 "nbformat_minor": 5
}
