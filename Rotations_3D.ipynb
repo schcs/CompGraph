{
 "cells": [
  {
   "cell_type": "code",
   "execution_count": 1,
   "id": "66113c85",
   "metadata": {},
   "outputs": [
    {
     "data": {
      "text/plain": [
       "cross_prod_matrix (generic function with 1 method)"
      ]
     },
     "execution_count": 1,
     "metadata": {},
     "output_type": "execute_result"
    }
   ],
   "source": [
    "using LinearAlgebra\n",
    "\n",
    "function cross_prod_matrix( k )\n",
    "    return [ 0  -k[3] k[2];  \n",
    "            k[3] 0   -k[1]; \n",
    "           -k[2] k[1] 0 ]\n",
    "end "
   ]
  },
  {
   "cell_type": "code",
   "execution_count": 2,
   "id": "c7bce8b3",
   "metadata": {},
   "outputs": [
    {
     "data": {
      "text/plain": [
       "rot_matrix_3d_transform (generic function with 1 method)"
      ]
     },
     "execution_count": 2,
     "metadata": {},
     "output_type": "execute_result"
    }
   ],
   "source": [
    "function rot_matrix_3d_transform( k, theta )\n",
    "    mat0 = [ 1 0          0; \n",
    "             0 cos(theta) -sin(theta); \n",
    "             0 sin(theta) cos( theta )]\n",
    "    \n",
    "    if isapprox( k[1], 0.0 ) && isapprox( k[2], 0.0 )\n",
    "        u = [ 0.0, 0.0, 1.0 ]\n",
    "    else \n",
    "        u = [ k[2], -k[1], 0 ]\n",
    "        u /= norm( u )\n",
    "    end \n",
    "    \n",
    "    v = cross( k, u )\n",
    "    trans = hcat( k, u, v )\n",
    "    return trans*mat0*transpose( trans )\n",
    "end "
   ]
  },
  {
   "cell_type": "code",
   "execution_count": 3,
   "id": "0356a2ed",
   "metadata": {},
   "outputs": [
    {
     "data": {
      "text/plain": [
       "rot_matrix_3d (generic function with 1 method)"
      ]
     },
     "execution_count": 3,
     "metadata": {},
     "output_type": "execute_result"
    }
   ],
   "source": [
    "function rot_matrix_3d( k, theta )\n",
    "    \n",
    "    K = cross_prod_matrix( k )\n",
    "    return I + sin(theta)K + (1-cos(theta))K^2\n",
    "end "
   ]
  },
  {
   "cell_type": "code",
   "execution_count": 4,
   "id": "ead17658",
   "metadata": {},
   "outputs": [
    {
     "data": {
      "text/plain": [
       "rot_matrix_infinitesimal_3d (generic function with 1 method)"
      ]
     },
     "execution_count": 4,
     "metadata": {},
     "output_type": "execute_result"
    }
   ],
   "source": [
    "function rot_matrix_infinitesimal_3d( k, theta )\n",
    "    K = cross_prod_matrix( k )\n",
    "    return I+theta*K\n",
    "end"
   ]
  },
  {
   "cell_type": "code",
   "execution_count": 5,
   "id": "da9e25ea",
   "metadata": {},
   "outputs": [
    {
     "data": {
      "text/plain": [
       "rot_z_theta (generic function with 1 method)"
      ]
     },
     "execution_count": 5,
     "metadata": {},
     "output_type": "execute_result"
    }
   ],
   "source": [
    "rot_x_theta( theta ) = rot_matrix_3d( [1.0, 0.0, 0.0], theta )\n",
    "rot_y_theta( theta ) = rot_matrix_3d( [0.0, 1.0, 0.0], theta )\n",
    "rot_z_theta( theta ) = rot_matrix_3d( [0.0, 0.0, 1.0], theta )    "
   ]
  },
  {
   "cell_type": "code",
   "execution_count": 6,
   "id": "bfc82f41",
   "metadata": {},
   "outputs": [
    {
     "data": {
      "text/plain": [
       "rand_rot_3d (generic function with 1 method)"
      ]
     },
     "execution_count": 6,
     "metadata": {},
     "output_type": "execute_result"
    }
   ],
   "source": [
    "function rand_rot_3d()\n",
    "\n",
    "    k = [ rand()- .5 for x in 1:3 ]\n",
    "    k = k/norm(k)\n",
    "    theta = 2*pi*rand()\n",
    "    return rot_matrix_3d( k, theta )\n",
    "end"
   ]
  },
  {
   "cell_type": "code",
   "execution_count": 7,
   "id": "168ec3ef",
   "metadata": {},
   "outputs": [
    {
     "data": {
      "text/plain": [
       "params_rotation_3d (generic function with 1 method)"
      ]
     },
     "execution_count": 7,
     "metadata": {},
     "output_type": "execute_result"
    }
   ],
   "source": [
    "function params_rotation_3d( R )\n",
    "   \n",
    "    theta = acos( (R[1,1] + R[2,2] + R[3,3] -1 )/2 )\n",
    "    k1 = (R[3,2]-R[2,3])/(2*sin(theta))\n",
    "    k2 = (R[1,3]-R[3,1])/(2*sin(theta))\n",
    "    k3 = (R[2,1]-R[1,2])/(2*sin(theta))\n",
    "    \n",
    "    return [k1, k2, k3], theta\n",
    "end"
   ]
  },
  {
   "cell_type": "code",
   "execution_count": 8,
   "id": "63561d1d",
   "metadata": {},
   "outputs": [
    {
     "data": {
      "text/plain": [
       "zxz_angles (generic function with 1 method)"
      ]
     },
     "execution_count": 8,
     "metadata": {},
     "output_type": "execute_result"
    }
   ],
   "source": [
    "function zxz_angles( R ) \n",
    "    \n",
    "    theta = acos( R[3,3] )\n",
    "    \n",
    "    phi = pi/2#asin( R[3,1]/sin(theta) ); \n",
    "    if !isapprox( R[3,2], sin(theta)*cos(phi))\n",
    "            phi = pi-phi\n",
    "    end\n",
    "    \n",
    "    psi = -pi/2#asin( R[1,3]/sin(theta))\n",
    "    if !isapprox( R[2,3], -cos(psi)*sin(theta)) \n",
    "        psi = pi-psi\n",
    "    end \n",
    "    \n",
    "    return phi, theta, psi\n",
    "end"
   ]
  },
  {
   "cell_type": "code",
   "execution_count": 9,
   "id": "cec165da",
   "metadata": {},
   "outputs": [
    {
     "data": {
      "text/plain": [
       "zyx_angles (generic function with 1 method)"
      ]
     },
     "execution_count": 9,
     "metadata": {},
     "output_type": "execute_result"
    }
   ],
   "source": [
    "function zyx_angles( R )\n",
    "    theta = asin( -R[3,1] )\n",
    "    phi = asin( R[3,2]/cos(theta))\n",
    "    \n",
    "    if !isapprox( cos(phi)*cos(theta), R[3,3] )\n",
    "        phi = pi-phi\n",
    "    end \n",
    "    \n",
    "    psi = asin( R[2,1]/cos(theta))\n",
    "    \n",
    "    if !isapprox( cos(theta)*cos(psi), R[1,1])\n",
    "        psi = pi-psi\n",
    "    end\n",
    "    \n",
    "    return phi, theta, psi\n",
    "end"
   ]
  },
  {
   "cell_type": "code",
   "execution_count": 10,
   "id": "76b54a31",
   "metadata": {},
   "outputs": [
    {
     "data": {
      "text/plain": [
       "3×3 Matrix{Float64}:\n",
       " -0.389256   -0.219506  0.894593\n",
       "  0.919513   -0.035079  0.391491\n",
       " -0.0545531   0.97498   0.215493"
      ]
     },
     "execution_count": 10,
     "metadata": {},
     "output_type": "execute_result"
    }
   ],
   "source": [
    "R = rand_rot_3d()"
   ]
  },
  {
   "cell_type": "code",
   "execution_count": 11,
   "id": "1cb2dcc5",
   "metadata": {},
   "outputs": [
    {
     "data": {
      "text/plain": [
       "3×3 Matrix{Float64}:\n",
       " -0.389256   -0.219506  0.894593\n",
       "  0.919513   -0.035079  0.391491\n",
       " -0.0545531   0.97498   0.215493"
      ]
     },
     "execution_count": 11,
     "metadata": {},
     "output_type": "execute_result"
    }
   ],
   "source": [
    "phi, theta, psi = zyx_angles( R )\n",
    "rot_z_theta( psi )*rot_y_theta( theta )*rot_x_theta( phi )"
   ]
  },
  {
   "cell_type": "code",
   "execution_count": 12,
   "id": "bf983627",
   "metadata": {},
   "outputs": [
    {
     "data": {
      "text/plain": [
       "3×3 Matrix{Float64}:\n",
       "  0.215493     2.45969e-16  -0.976505\n",
       " -1.58871e-16  1.0           2.16828e-16\n",
       "  0.976505     1.08414e-16   0.215493"
      ]
     },
     "execution_count": 12,
     "metadata": {},
     "output_type": "execute_result"
    }
   ],
   "source": [
    "phi, theta, psi = zxz_angles( R )\n",
    "rot_z_theta( psi )*rot_x_theta( theta )*rot_z_theta( phi )"
   ]
  },
  {
   "cell_type": "code",
   "execution_count": 13,
   "id": "a9578274",
   "metadata": {},
   "outputs": [
    {
     "data": {
      "text/plain": [
       "3×3 Matrix{Float64}:\n",
       " -0.936347  0.0   0.351077\n",
       "  0.0       1.0   0.0\n",
       " -0.351077  0.0  -0.936347"
      ]
     },
     "execution_count": 13,
     "metadata": {},
     "output_type": "execute_result"
    }
   ],
   "source": [
    "r = rot_y_theta( 2pi*rand() )"
   ]
  },
  {
   "cell_type": "code",
   "execution_count": 14,
   "id": "e37b4d6f",
   "metadata": {},
   "outputs": [
    {
     "data": {
      "text/plain": [
       "3×3 Matrix{Float64}:\n",
       " -0.936347     1.18089e-16  -0.351077\n",
       "  9.68884e-17  1.0           7.79548e-17\n",
       "  0.351077     3.89774e-17  -0.936347"
      ]
     },
     "execution_count": 14,
     "metadata": {},
     "output_type": "execute_result"
    }
   ],
   "source": [
    "phi, theta, psi = zxz_angles( r )\n",
    "rot_z_theta( psi )*rot_x_theta( theta )*rot_z_theta( phi )"
   ]
  },
  {
   "cell_type": "code",
   "execution_count": 15,
   "id": "f2cb2a09",
   "metadata": {},
   "outputs": [
    {
     "data": {
      "text/plain": [
       "true"
      ]
     },
     "execution_count": 15,
     "metadata": {},
     "output_type": "execute_result"
    }
   ],
   "source": [
    "isapprox(1.0000000000000002, 1 )"
   ]
  },
  {
   "cell_type": "code",
   "execution_count": 16,
   "id": "09effd4f",
   "metadata": {},
   "outputs": [
    {
     "data": {
      "text/plain": [
       "(1.5707963267948966, 2.7828715592524, 4.71238898038469)"
      ]
     },
     "execution_count": 16,
     "metadata": {},
     "output_type": "execute_result"
    }
   ],
   "source": [
    "phi, theta, psi"
   ]
  },
  {
   "cell_type": "code",
   "execution_count": 17,
   "id": "10aabce3",
   "metadata": {},
   "outputs": [
    {
     "data": {
      "text/plain": [
       "1.5707963267948966"
      ]
     },
     "execution_count": 17,
     "metadata": {},
     "output_type": "execute_result"
    }
   ],
   "source": [
    "pi/2"
   ]
  },
  {
   "cell_type": "code",
   "execution_count": 32,
   "id": "c0ee75ab",
   "metadata": {},
   "outputs": [
    {
     "data": {
      "text/plain": [
       "3×3 Matrix{Float64}:\n",
       "  0.999999     -0.000890185   0.000867494\n",
       "  0.000896466   0.999973     -0.00726713\n",
       " -0.000861002   0.0072679     0.999973"
      ]
     },
     "execution_count": 32,
     "metadata": {},
     "output_type": "execute_result"
    }
   ],
   "source": [
    "k =[ 2*(rand()-.5) for i in 1:3 ]\n",
    "theta = .01\n",
    "r1 = rot_matrix_3d( k, theta )"
   ]
  },
  {
   "cell_type": "code",
   "execution_count": 33,
   "id": "6c73f8ff",
   "metadata": {},
   "outputs": [
    {
     "data": {
      "text/plain": [
       "3×3 Matrix{Float64}:\n",
       "  1.0          -0.00089334   0.000864262\n",
       "  0.00089334    1.0         -0.00726764\n",
       " -0.000864262   0.00726764   1.0"
      ]
     },
     "execution_count": 33,
     "metadata": {},
     "output_type": "execute_result"
    }
   ],
   "source": [
    "r2 = rot_matrix_infinitesimal_3d( k, theta )"
   ]
  },
  {
   "cell_type": "code",
   "execution_count": 20,
   "id": "ef5afb65",
   "metadata": {},
   "outputs": [
    {
     "data": {
      "text/plain": [
       "0.9999999999999399"
      ]
     },
     "execution_count": 20,
     "metadata": {},
     "output_type": "execute_result"
    }
   ],
   "source": [
    "det(r1)"
   ]
  },
  {
   "cell_type": "code",
   "execution_count": 21,
   "id": "0c4fd425",
   "metadata": {},
   "outputs": [
    {
     "data": {
      "text/plain": [
       "1.0000003999209655"
      ]
     },
     "execution_count": 21,
     "metadata": {},
     "output_type": "execute_result"
    }
   ],
   "source": [
    "det(r2)"
   ]
  },
  {
   "cell_type": "code",
   "execution_count": 34,
   "id": "a743e54e",
   "metadata": {},
   "outputs": [
    {
     "data": {
      "text/plain": [
       "3×3 Matrix{Float64}:\n",
       " 1.0    -0.001  0.0\n",
       " 0.001   1.0    0.0\n",
       " 0.0     0.0    1.0"
      ]
     },
     "execution_count": 34,
     "metadata": {},
     "output_type": "execute_result"
    }
   ],
   "source": [
    "r1 = rot_matrix_infinitesimal_3d( [1,0,0], 0.001 )\n",
    "r2 = rot_matrix_infinitesimal_3d( [0,1,0], 0.001 )\n",
    "r3 = rot_matrix_infinitesimal_3d( [0,0,1], 0.001 )\n"
   ]
  },
  {
   "cell_type": "code",
   "execution_count": 39,
   "id": "fa3632a6",
   "metadata": {},
   "outputs": [
    {
     "data": {
      "text/plain": [
       "3-element Vector{Float64}:\n",
       " -0.2672612419124244\n",
       "  0.5345224838248488\n",
       "  0.8017837257372732"
      ]
     },
     "execution_count": 39,
     "metadata": {},
     "output_type": "execute_result"
    }
   ],
   "source": [
    "k = [-1,2,3]\n",
    "k /= norm(k)\n",
    "k"
   ]
  },
  {
   "cell_type": "code",
   "execution_count": 41,
   "id": "a8eeb9d9",
   "metadata": {},
   "outputs": [
    {
     "data": {
      "text/plain": [
       "3×3 Matrix{Float64}:\n",
       "  0.999996    -0.003        0.002\n",
       "  0.002998     0.999996     0.000999998\n",
       " -0.00200299  -0.000993996  0.999998"
      ]
     },
     "execution_count": 41,
     "metadata": {},
     "output_type": "execute_result"
    }
   ],
   "source": [
    "r1^-1*r2^2*r3^3"
   ]
  },
  {
   "cell_type": "code",
   "execution_count": 42,
   "id": "0e1b5122",
   "metadata": {},
   "outputs": [
    {
     "data": {
      "text/plain": [
       "3×3 Matrix{Float64}:\n",
       "  1.0    -0.003  0.002\n",
       "  0.003   1.0    0.001\n",
       " -0.002  -0.001  1.0"
      ]
     },
     "execution_count": 42,
     "metadata": {},
     "output_type": "execute_result"
    }
   ],
   "source": [
    "rot_matrix_infinitesimal_3d( [-1,2,3], 0.001 )"
   ]
  },
  {
   "cell_type": "code",
   "execution_count": 43,
   "id": "f5f5d0ce",
   "metadata": {},
   "outputs": [
    {
     "data": {
      "text/plain": [
       "3×3 Matrix{Float64}:\n",
       "  0.999994   -0.003001  0.0019985\n",
       "  0.002999    0.999995  0.001003\n",
       " -0.0020015  -0.000997  0.999998"
      ]
     },
     "execution_count": 43,
     "metadata": {},
     "output_type": "execute_result"
    }
   ],
   "source": [
    "rot_matrix_3d( [-1,2,3], 0.001 )"
   ]
  },
  {
   "cell_type": "code",
   "execution_count": null,
   "id": "5e65033d",
   "metadata": {},
   "outputs": [],
   "source": []
  }
 ],
 "metadata": {
  "kernelspec": {
   "display_name": "Julia 1.7.2",
   "language": "julia",
   "name": "julia-1.7"
  },
  "language_info": {
   "file_extension": ".jl",
   "mimetype": "application/julia",
   "name": "julia",
   "version": "1.7.2"
  }
 },
 "nbformat": 4,
 "nbformat_minor": 5
}
