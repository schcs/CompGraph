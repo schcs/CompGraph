{
 "cells": [
  {
   "cell_type": "code",
   "execution_count": 2,
   "id": "66113c85",
   "metadata": {},
   "outputs": [
    {
     "data": {
      "text/plain": [
       "cross_prod_matrix (generic function with 1 method)"
      ]
     },
     "execution_count": 2,
     "metadata": {},
     "output_type": "execute_result"
    }
   ],
   "source": [
    "using LinearAlgebra\n",
    "\n",
    "function cross_prod_matrix( k )\n",
    "    return [ 0  -k[3] k[2];  \n",
    "            k[3] 0   -k[1]; \n",
    "           -k[2] k[1] 0 ]\n",
    "end "
   ]
  },
  {
   "cell_type": "code",
   "execution_count": 3,
   "id": "c7bce8b3",
   "metadata": {},
   "outputs": [
    {
     "data": {
      "text/plain": [
       "rot_matrix_3d_transform (generic function with 1 method)"
      ]
     },
     "execution_count": 3,
     "metadata": {},
     "output_type": "execute_result"
    }
   ],
   "source": [
    "function rot_matrix_3d_transform( k, theta )\n",
    "    mat0 = [ 1 0          0; \n",
    "             0 cos(theta) -sin(theta); \n",
    "             0 sin(theta) cos( theta )]\n",
    "    \n",
    "    if isapprox( k[1], 0.0 ) && isapprox( k[2], 0.0 )\n",
    "        u = [ 0.0, 0.0, 1.0 ]\n",
    "    else \n",
    "        u = [ k[2], -k[1], 0 ]\n",
    "        u /= norm( u )\n",
    "    end \n",
    "    \n",
    "    v = cross( k, u )\n",
    "    trans = hcat( k, u, v )\n",
    "    return trans*mat0*transpose( trans )\n",
    "end "
   ]
  },
  {
   "cell_type": "code",
   "execution_count": 4,
   "id": "0356a2ed",
   "metadata": {},
   "outputs": [
    {
     "data": {
      "text/plain": [
       "rot_matrix_3d (generic function with 1 method)"
      ]
     },
     "execution_count": 4,
     "metadata": {},
     "output_type": "execute_result"
    }
   ],
   "source": [
    "function rot_matrix_3d( k, theta )\n",
    "    \n",
    "    K = cross_prod_matrix( k )\n",
    "    return I + sin(theta)K + (1-cos(theta))K^2\n",
    "end "
   ]
  },
  {
   "cell_type": "code",
   "execution_count": 5,
   "id": "ead17658",
   "metadata": {},
   "outputs": [
    {
     "data": {
      "text/plain": [
       "rot_matrix_infinitesimal_3d (generic function with 1 method)"
      ]
     },
     "execution_count": 5,
     "metadata": {},
     "output_type": "execute_result"
    }
   ],
   "source": [
    "function rot_matrix_infinitesimal_3d( k, theta )\n",
    "    K = cross_prod_matrix( k )\n",
    "    return I+theta*K\n",
    "end"
   ]
  },
  {
   "cell_type": "code",
   "execution_count": 6,
   "id": "da9e25ea",
   "metadata": {},
   "outputs": [
    {
     "data": {
      "text/plain": [
       "rot_z_theta (generic function with 1 method)"
      ]
     },
     "execution_count": 6,
     "metadata": {},
     "output_type": "execute_result"
    }
   ],
   "source": [
    "rot_x_theta( theta ) = rot_matrix_3d( [1.0, 0.0, 0.0], theta )\n",
    "rot_y_theta( theta ) = rot_matrix_3d( [0.0, 1.0, 0.0], theta )\n",
    "rot_z_theta( theta ) = rot_matrix_3d( [0.0, 0.0, 1.0], theta )    "
   ]
  },
  {
   "cell_type": "code",
   "execution_count": 7,
   "id": "bfc82f41",
   "metadata": {},
   "outputs": [
    {
     "data": {
      "text/plain": [
       "rand_rot_3d (generic function with 1 method)"
      ]
     },
     "execution_count": 7,
     "metadata": {},
     "output_type": "execute_result"
    }
   ],
   "source": [
    "function rand_rot_3d()\n",
    "\n",
    "    k = [ rand()- .5 for x in 1:3 ]\n",
    "    k = k/norm(k)\n",
    "    theta = 2*pi*rand()\n",
    "    return rot_matrix_3d( k, theta )\n",
    "end"
   ]
  },
  {
   "cell_type": "code",
   "execution_count": 8,
   "id": "168ec3ef",
   "metadata": {},
   "outputs": [
    {
     "data": {
      "text/plain": [
       "params_rotation_3d (generic function with 1 method)"
      ]
     },
     "execution_count": 8,
     "metadata": {},
     "output_type": "execute_result"
    }
   ],
   "source": [
    "function params_rotation_3d( R )\n",
    "   \n",
    "    theta = acos( (R[1,1] + R[2,2] + R[3,3] -1 )/2 )\n",
    "    k1 = (R[3,2]-R[2,3])/(2*sin(theta))\n",
    "    k2 = (R[1,3]-R[3,1])/(2*sin(theta))\n",
    "    k3 = (R[2,1]-R[1,2])/(2*sin(theta))\n",
    "    \n",
    "    return [k1, k2, k3], theta\n",
    "end"
   ]
  },
  {
   "cell_type": "code",
   "execution_count": 9,
   "id": "63561d1d",
   "metadata": {},
   "outputs": [
    {
     "data": {
      "text/plain": [
       "zxz_angles (generic function with 1 method)"
      ]
     },
     "execution_count": 9,
     "metadata": {},
     "output_type": "execute_result"
    }
   ],
   "source": [
    "function zxz_angles( R ) \n",
    "    \n",
    "    theta = acos( R[3,3] )\n",
    "    \n",
    "    phi = pi/2#asin( R[3,1]/sin(theta) ); \n",
    "    if !isapprox( R[3,2], sin(theta)*cos(phi))\n",
    "            phi = pi-phi\n",
    "    end\n",
    "    \n",
    "    psi = -pi/2#asin( R[1,3]/sin(theta))\n",
    "    if !isapprox( R[2,3], -cos(psi)*sin(theta)) \n",
    "        psi = pi-psi\n",
    "    end \n",
    "    \n",
    "    return phi, theta, psi\n",
    "end"
   ]
  },
  {
   "cell_type": "code",
   "execution_count": 10,
   "id": "cec165da",
   "metadata": {},
   "outputs": [
    {
     "data": {
      "text/plain": [
       "zyx_angles (generic function with 1 method)"
      ]
     },
     "execution_count": 10,
     "metadata": {},
     "output_type": "execute_result"
    }
   ],
   "source": [
    "function zyx_angles( R )\n",
    "    theta = asin( -R[3,1] )\n",
    "    phi = asin( R[3,2]/cos(theta))\n",
    "    \n",
    "    if !isapprox( cos(phi)*cos(theta), R[3,3] )\n",
    "        phi = pi-phi\n",
    "    end \n",
    "    \n",
    "    psi = asin( R[2,1]/cos(theta))\n",
    "    \n",
    "    if !isapprox( cos(theta)*cos(psi), R[1,1])\n",
    "        psi = pi-psi\n",
    "    end\n",
    "    \n",
    "    return phi, theta, psi\n",
    "end"
   ]
  },
  {
   "cell_type": "code",
   "execution_count": 11,
   "id": "76b54a31",
   "metadata": {},
   "outputs": [
    {
     "data": {
      "text/plain": [
       "3×3 Matrix{Float64}:\n",
       "  0.844943  -0.517754  -0.134169\n",
       "  0.523493   0.749118   0.405929\n",
       " -0.109663  -0.413223   0.904003"
      ]
     },
     "execution_count": 11,
     "metadata": {},
     "output_type": "execute_result"
    }
   ],
   "source": [
    "R = rand_rot_3d()"
   ]
  },
  {
   "cell_type": "code",
   "execution_count": 12,
   "id": "1cb2dcc5",
   "metadata": {},
   "outputs": [
    {
     "data": {
      "text/plain": [
       "3×3 Matrix{Float64}:\n",
       "  0.844943  -0.517754  -0.134169\n",
       "  0.523493   0.749118   0.405929\n",
       " -0.109663  -0.413223   0.904003"
      ]
     },
     "execution_count": 12,
     "metadata": {},
     "output_type": "execute_result"
    }
   ],
   "source": [
    "phi, theta, psi = zyx_angles( R )\n",
    "rot_z_theta( psi )*rot_y_theta( theta )*rot_x_theta( phi )"
   ]
  },
  {
   "cell_type": "code",
   "execution_count": 13,
   "id": "bf983627",
   "metadata": {},
   "outputs": [
    {
     "data": {
      "text/plain": [
       "3×3 Matrix{Float64}:\n",
       "  0.904003     3.22409e-16  -0.427527\n",
       " -3.11751e-16  1.0           9.493e-17\n",
       "  0.427527     4.7465e-17    0.904003"
      ]
     },
     "execution_count": 13,
     "metadata": {},
     "output_type": "execute_result"
    }
   ],
   "source": [
    "phi, theta, psi = zxz_angles( R )\n",
    "rot_z_theta( psi )*rot_x_theta( theta )*rot_z_theta( phi )"
   ]
  },
  {
   "cell_type": "code",
   "execution_count": 14,
   "id": "a9578274",
   "metadata": {},
   "outputs": [
    {
     "data": {
      "text/plain": [
       "3×3 Matrix{Float64}:\n",
       "  0.70446   0.0  0.709744\n",
       "  0.0       1.0  0.0\n",
       " -0.709744  0.0  0.70446"
      ]
     },
     "execution_count": 14,
     "metadata": {},
     "output_type": "execute_result"
    }
   ],
   "source": [
    "r = rot_y_theta( 2pi*rand() )"
   ]
  },
  {
   "cell_type": "code",
   "execution_count": 15,
   "id": "e37b4d6f",
   "metadata": {},
   "outputs": [
    {
     "data": {
      "text/plain": [
       "3×3 Matrix{Float64}:\n",
       "  0.70446      3.00255e-16  -0.709744\n",
       " -2.67444e-16  1.0           1.57595e-16\n",
       "  0.709744     7.87974e-17   0.70446"
      ]
     },
     "execution_count": 15,
     "metadata": {},
     "output_type": "execute_result"
    }
   ],
   "source": [
    "phi, theta, psi = zxz_angles( r )\n",
    "rot_z_theta( psi )*rot_x_theta( theta )*rot_z_theta( phi )"
   ]
  },
  {
   "cell_type": "code",
   "execution_count": 16,
   "id": "f2cb2a09",
   "metadata": {},
   "outputs": [
    {
     "data": {
      "text/plain": [
       "true"
      ]
     },
     "execution_count": 16,
     "metadata": {},
     "output_type": "execute_result"
    }
   ],
   "source": [
    "isapprox(1.0000000000000002, 1 )"
   ]
  },
  {
   "cell_type": "code",
   "execution_count": 17,
   "id": "09effd4f",
   "metadata": {},
   "outputs": [
    {
     "data": {
      "text/plain": [
       "(1.5707963267948966, 0.7891349991224235, 4.71238898038469)"
      ]
     },
     "execution_count": 17,
     "metadata": {},
     "output_type": "execute_result"
    }
   ],
   "source": [
    "phi, theta, psi"
   ]
  },
  {
   "cell_type": "code",
   "execution_count": 18,
   "id": "10aabce3",
   "metadata": {},
   "outputs": [
    {
     "data": {
      "text/plain": [
       "1.5707963267948966"
      ]
     },
     "execution_count": 18,
     "metadata": {},
     "output_type": "execute_result"
    }
   ],
   "source": [
    "pi/2"
   ]
  },
  {
   "cell_type": "code",
   "execution_count": 19,
   "id": "c0ee75ab",
   "metadata": {},
   "outputs": [
    {
     "data": {
      "text/plain": [
       "3×3 Matrix{Float64}:\n",
       "  1.0           0.000214264  0.000734224\n",
       " -0.000214369   1.0          0.000143978\n",
       " -0.000734193  -0.000144136  1.0"
      ]
     },
     "execution_count": 19,
     "metadata": {},
     "output_type": "execute_result"
    }
   ],
   "source": [
    "k =[ 2*(rand()-.5) for i in 1:3 ]\n",
    "theta = 0.001\n",
    "r1 = rot_matrix_3d( k, theta )"
   ]
  },
  {
   "cell_type": "code",
   "execution_count": 20,
   "id": "6c73f8ff",
   "metadata": {},
   "outputs": [
    {
     "data": {
      "text/plain": [
       "3×3 Matrix{Float64}:\n",
       "  1.0           0.000214316  0.000734208\n",
       " -0.000214316   1.0          0.000144057\n",
       " -0.000734208  -0.000144057  1.0"
      ]
     },
     "execution_count": 20,
     "metadata": {},
     "output_type": "execute_result"
    }
   ],
   "source": [
    "r2 = rot_matrix_infinitesimal_3d( k, theta )"
   ]
  },
  {
   "cell_type": "code",
   "execution_count": 21,
   "id": "ef5afb65",
   "metadata": {},
   "outputs": [
    {
     "data": {
      "text/plain": [
       "0.9999999999999402"
      ]
     },
     "execution_count": 21,
     "metadata": {},
     "output_type": "execute_result"
    }
   ],
   "source": [
    "det(r1)"
   ]
  },
  {
   "cell_type": "code",
   "execution_count": 22,
   "id": "0c4fd425",
   "metadata": {},
   "outputs": [
    {
     "data": {
      "text/plain": [
       "1.0000006057459743"
      ]
     },
     "execution_count": 22,
     "metadata": {},
     "output_type": "execute_result"
    }
   ],
   "source": [
    "det(r2)"
   ]
  },
  {
   "cell_type": "code",
   "execution_count": null,
   "id": "a743e54e",
   "metadata": {},
   "outputs": [],
   "source": []
  }
 ],
 "metadata": {
  "kernelspec": {
   "display_name": "Julia 1.7.2",
   "language": "julia",
   "name": "julia-1.7"
  },
  "language_info": {
   "file_extension": ".jl",
   "mimetype": "application/julia",
   "name": "julia",
   "version": "1.7.2"
  }
 },
 "nbformat": 4,
 "nbformat_minor": 5
}
