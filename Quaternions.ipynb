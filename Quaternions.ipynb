{
 "cells": [
  {
   "cell_type": "code",
   "execution_count": 1,
   "id": "e9a82978",
   "metadata": {},
   "outputs": [
    {
     "data": {
      "text/html": [],
      "text/plain": [
       "Quat{Float64}(0.0, 0.0, 0.0, 1.0)"
      ]
     },
     "execution_count": 1,
     "metadata": {},
     "output_type": "execute_result"
    },
    {
     "name": "stdout",
     "output_type": "stream",
     "text": [
      "k"
     ]
    }
   ],
   "source": [
    "struct Quat{T}\n",
    "    sc::T\n",
    "    i::T\n",
    "    j::T\n",
    "    k::T\n",
    "end \n",
    "\n",
    "function Quat( a, b, c, d )\n",
    "    T = typeof( a )\n",
    "    return Quat{T}( a, b, c, d )\n",
    "end \n",
    "\n",
    "function string_term( a, var; first = false )\n",
    "    if a == 0 \n",
    "        return \"\"\n",
    "    elseif a == 1 && var != \"\"\n",
    "        return (first ? \"\" : \"+\") * var\n",
    "    elseif a == 1 && var == \"\"\n",
    "        return (first ? \"\" : \"+\")*\"1\"\n",
    "    elseif a == -1 && var != \"\"\n",
    "        return \"-$(var)\"\n",
    "    elseif a == -1 && var == \"\"\n",
    "        return \"-1\"\n",
    "    else\n",
    "        return (first || a < 0 ? \"\" : \"+\" ) * \"$a$(var)\"\n",
    "    end\n",
    "end\n",
    "\n",
    "function Base.show(io::IO, m::MIME\"text/html\", q::Quat) \n",
    "    \n",
    "    if q.sc == 0 && q.i == 0 && q.j == 0 && q.k == 0\n",
    "        print( \"0\" )\n",
    "    end \n",
    "        \n",
    "    str = string_term( q.sc, \"\"; first = true )\n",
    "    str *= string_term( q.i, \"i\"; first = length( str ) == 0 )\n",
    "    str *= string_term( q.j, \"j\"; first = length( str ) == 0 )\n",
    "    str *= string_term( q.k, \"k\"; first = length( str ) == 0 )\n",
    "    \n",
    "    print( str )\n",
    "end\n",
    "\n",
    "ii = Quat( 0.0, 1.0, 0.0, 0.0 )\n",
    "jj = Quat( 0.0, 0.0, 1.0, 0.0 )\n",
    "kk = Quat( 0.0, 0.0, 0.0, 1.0 )"
   ]
  },
  {
   "cell_type": "code",
   "execution_count": 20,
   "id": "848d9502",
   "metadata": {},
   "outputs": [
    {
     "data": {
      "text/plain": [
       "random_quat (generic function with 1 method)"
      ]
     },
     "execution_count": 20,
     "metadata": {},
     "output_type": "execute_result"
    }
   ],
   "source": [
    "function Base.:+( p::Quat, q::Quat )\n",
    "    return Quat( p.sc+q.sc, p.i+q.i, p.j+q.j, p.k+q.k )\n",
    "end \n",
    "\n",
    "function Base.:+( a::Number, q::Quat )\n",
    "    return Quat( a+q.sc, q.i, q.j, q.k )\n",
    "end \n",
    "\n",
    "function Base.:+( q::Quat, a::Number )\n",
    "    return a+q\n",
    "end \n",
    "\n",
    "function Base.:*( p::Quat, q::Quat )\n",
    "    return Quat( p.sc*q.sc-p.i*q.i-p.j*q.j-p.k*q.k, \n",
    "                 p.sc*q.i+p.i*q.sc+p.j*q.k-p.k*q.j,\n",
    "                 p.sc*q.j+p.j*q.sc+p.k*q.i-p.i*q.k,\n",
    "                 p.sc*q.k+p.k*q.sc+p.i*q.j-p.j*q.i )      \n",
    "end \n",
    "\n",
    "function Base.:-( a::Number, q::Quat )\n",
    "    return Quat( a-q.sc, -q.i, -q.j, -q.k )\n",
    "end \n",
    "\n",
    "function Base.:-( q::Quat, a::Number )\n",
    "    return Quat( q.sc-a, q.i, q.j, q.k )\n",
    "end \n",
    "\n",
    "\n",
    "function Base.:*( a::Number, q::Quat )\n",
    "    return Quat( a*(q.sc), a*(q.i), a*(q.j), a*(q.k) )\n",
    "end \n",
    "\n",
    "function Base.:-( q::Quat )\n",
    "    return -1*q\n",
    "end\n",
    "\n",
    "function Base.:-( p::Quat, q::Quat )\n",
    "    return p+(-1)*q\n",
    "end\n",
    "\n",
    "function Base.:/( p::Quat, a::Number )\n",
    "    return (1/a)*p\n",
    "end\n",
    "\n",
    "function conjugate( q::Quat )\n",
    "    return Quat( q.sc, -q.i, -q.j, -q.k )\n",
    "end \n",
    "\n",
    "function norm( q::Quat )\n",
    "    return (q.sc^2+q.i^2+q.j^2+q.k^2)^(1/2)\n",
    "end\n",
    "\n",
    "function Base.inv( q::Quat )\n",
    "    return conjugate( q )/(norm( q )^2)\n",
    "end \n",
    "\n",
    "function Base.:^( p::Quat, n::Integer )\n",
    "    \n",
    "    if n == 0\n",
    "        return Quat( 1,0,0,0 )\n",
    "    elseif n == 1\n",
    "        return p\n",
    "    elseif n > 1\n",
    "        return prod( p for i in 1:n )\n",
    "    elseif n == -1\n",
    "        return inv( p )\n",
    "    elseif n < -1\n",
    "        pinv = inv( p )\n",
    "        return prod( pinv for i in 1:-n )\n",
    "    else \n",
    "        throw( \"invalid exponent\" )\n",
    "    end \n",
    "end\n",
    "\n",
    "\n",
    "function Base.:/( p::Quat, q::Quat )\n",
    "    return p*q^-1\n",
    "end\n",
    "\n",
    "random_quat() = Quat( [ 2*(rand()-.5) for i in 1:4 ]... )"
   ]
  }
 ],
 "metadata": {
  "kernelspec": {
   "display_name": "Julia 1.7.2",
   "language": "julia",
   "name": "julia-1.7"
  },
  "language_info": {
   "file_extension": ".jl",
   "mimetype": "application/julia",
   "name": "julia",
   "version": "1.7.2"
  }
 },
 "nbformat": 4,
 "nbformat_minor": 5
}
