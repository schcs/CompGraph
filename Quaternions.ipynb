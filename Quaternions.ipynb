{
 "cells": [
  {
   "cell_type": "code",
   "execution_count": 1,
   "id": "31e5cbc7",
   "metadata": {},
   "outputs": [
    {
     "data": {
      "text/html": [],
      "text/plain": [
       "Quat{Float64}(0.0, 0.0, 0.0, 1.0)"
      ]
     },
     "execution_count": 1,
     "metadata": {},
     "output_type": "execute_result"
    },
    {
     "name": "stdout",
     "output_type": "stream",
     "text": [
      "k"
     ]
    }
   ],
   "source": [
    "struct Quat{T}\n",
    "    sc::T\n",
    "    i::T\n",
    "    j::T\n",
    "    k::T\n",
    "end \n",
    "\n",
    "function Quat( a, b, c, d )\n",
    "    T = typeof( a )\n",
    "    return Quat{T}( a, b, c, d )\n",
    "end \n",
    "\n",
    "function string_term( a, var; first = false )\n",
    "    if a == 0 \n",
    "        return \"\"\n",
    "    elseif a == 1 && var != \"\"\n",
    "        return (first ? \"\" : \"+\") * var\n",
    "    elseif a == 1 && var == \"\"\n",
    "        return (first ? \"\" : \"+\")*\"1\"\n",
    "    elseif a == -1 && var != \"\"\n",
    "        return \"-$(var)\"\n",
    "    elseif a == -1 && var == \"\"\n",
    "        return \"-1\"\n",
    "    else\n",
    "        return (first || a < 0 ? \"\" : \"+\" ) * \"$a$(var)\"\n",
    "    end\n",
    "end\n",
    "\n",
    "function Base.show(io::IO, m::MIME\"text/html\", q::Quat) \n",
    "    \n",
    "    if q.sc == 0 && q.i == 0 && q.j == 0 && q.k == 0\n",
    "        print( \"0\" )\n",
    "    end \n",
    "        \n",
    "    str = string_term( q.sc, \"\"; first = true )\n",
    "    str *= string_term( q.i, \"i\"; first = length( str ) == 0 )\n",
    "    str *= string_term( q.j, \"j\"; first = length( str ) == 0 )\n",
    "    str *= string_term( q.k, \"k\"; first = length( str ) == 0 )\n",
    "    \n",
    "    print( str )\n",
    "end\n",
    "\n",
    "ii = Quat( 0.0, 1.0, 0.0, 0.0 )\n",
    "jj = Quat( 0.0, 0.0, 1.0, 0.0 )\n",
    "kk = Quat( 0.0, 0.0, 0.0, 1.0 )"
   ]
  },
  {
   "cell_type": "code",
   "execution_count": 2,
   "id": "7fadc29a",
   "metadata": {},
   "outputs": [
    {
     "data": {
      "text/html": [],
      "text/plain": [
       "Quat{Int64}(1, 1, 1, 1)"
      ]
     },
     "execution_count": 2,
     "metadata": {},
     "output_type": "execute_result"
    },
    {
     "name": "stdout",
     "output_type": "stream",
     "text": [
      "1+i+j+k"
     ]
    }
   ],
   "source": [
    "q = Quat( 1, 1, 1, 1 )"
   ]
  },
  {
   "cell_type": "code",
   "execution_count": 20,
   "id": "2ebedcc8",
   "metadata": {},
   "outputs": [
    {
     "data": {
      "text/plain": [
       "random_quat (generic function with 1 method)"
      ]
     },
     "execution_count": 20,
     "metadata": {},
     "output_type": "execute_result"
    }
   ],
   "source": [
    "function Base.:+( p::Quat, q::Quat )\n",
    "    return Quat( p.sc+q.sc, p.i+q.i, p.j+q.j, p.k+q.k )\n",
    "end \n",
    "\n",
    "function Base.:+( a::Number, q::Quat )\n",
    "    return Quat( a+q.sc, q.i, q.j, q.k )\n",
    "end \n",
    "\n",
    "function Base.:+( q::Quat, a::Number )\n",
    "    return a+q\n",
    "end \n",
    "\n",
    "function Base.:*( p::Quat, q::Quat )\n",
    "    return Quat( p.sc*q.sc-p.i*q.i-p.j*q.j-p.k*q.k, \n",
    "                 p.sc*q.i+p.i*q.sc+p.j*q.k-p.k*q.j,\n",
    "                 p.sc*q.j+p.j*q.sc+p.k*q.i-p.i*q.k,\n",
    "                 p.sc*q.k+p.k*q.sc+p.i*q.j-p.j*q.i )      \n",
    "end \n",
    "\n",
    "function Base.:-( a::Number, q::Quat )\n",
    "    return Quat( a-q.sc, -q.i, -q.j, -q.k )\n",
    "end \n",
    "\n",
    "function Base.:-( q::Quat, a::Number )\n",
    "    return Quat( q.sc-a, q.i, q.j, q.k )\n",
    "end \n",
    "\n",
    "\n",
    "function Base.:*( a::Number, q::Quat )\n",
    "    return Quat( a*(q.sc), a*(q.i), a*(q.j), a*(q.k) )\n",
    "end \n",
    "\n",
    "function Base.:-( q::Quat )\n",
    "    return -1*q\n",
    "end\n",
    "\n",
    "function Base.:-( p::Quat, q::Quat )\n",
    "    return p+(-1)*q\n",
    "end\n",
    "\n",
    "function Base.:/( p::Quat, a::Number )\n",
    "    return (1/a)*p\n",
    "end\n",
    "\n",
    "function conjugate( q::Quat )\n",
    "    return Quat( q.sc, -q.i, -q.j, -q.k )\n",
    "end \n",
    "\n",
    "function norm( q::Quat )\n",
    "    return (q.sc^2+q.i^2+q.j^2+q.k^2)^(1/2)\n",
    "end\n",
    "\n",
    "function Base.inv( q::Quat )\n",
    "    return conjugate( q )/(norm( q )^2)\n",
    "end \n",
    "\n",
    "function Base.:^( p::Quat, n::Integer )\n",
    "    \n",
    "    if n == 0\n",
    "        return Quat( 1,0,0,0 )\n",
    "    elseif n == 1\n",
    "        return p\n",
    "    elseif n > 1\n",
    "        return prod( p for i in 1:n )\n",
    "    elseif n == -1\n",
    "        return inv( p )\n",
    "    elseif n < -1\n",
    "        pinv = inv( p )\n",
    "        return prod( pinv for i in 1:-n )\n",
    "    else \n",
    "        throw( \"invalid exponent\" )\n",
    "    end \n",
    "end\n",
    "\n",
    "\n",
    "function Base.:/( p::Quat, q::Quat )\n",
    "    return p*q^-1\n",
    "end\n",
    "\n",
    "random_quat() = Quat( [ 2*(rand()-.5) for i in 1:4 ]... )"
   ]
  },
  {
   "cell_type": "code",
   "execution_count": 5,
   "id": "95666fcd",
   "metadata": {},
   "outputs": [
    {
     "data": {
      "text/html": [],
      "text/plain": [
       "Quat{Float64}(-0.8716086996208587, -0.05103369172154659, 0.06493164439003452, 0.5449369386959579)"
      ]
     },
     "execution_count": 5,
     "metadata": {},
     "output_type": "execute_result"
    },
    {
     "name": "stdout",
     "output_type": "stream",
     "text": [
      "-0.8716086996208587-0.05103369172154659i+0.06493164439003452j+0.5449369386959579k"
     ]
    }
   ],
   "source": [
    "random_quat()"
   ]
  },
  {
   "cell_type": "code",
   "execution_count": 6,
   "id": "08b56305",
   "metadata": {},
   "outputs": [
    {
     "data": {
      "text/plain": [
       "\"jjkk\""
      ]
     },
     "execution_count": 6,
     "metadata": {},
     "output_type": "execute_result"
    }
   ],
   "source": [
    "\"jj\"*\"kk\""
   ]
  },
  {
   "cell_type": "code",
   "execution_count": 7,
   "id": "458b6edc",
   "metadata": {},
   "outputs": [
    {
     "data": {
      "text/html": [],
      "text/plain": [
       "Quat{Int64}(1, 0, 0, 0)"
      ]
     },
     "execution_count": 7,
     "metadata": {},
     "output_type": "execute_result"
    },
    {
     "name": "stdout",
     "output_type": "stream",
     "text": [
      "1"
     ]
    }
   ],
   "source": [
    "Quat( 1, 0, 0, 0 )"
   ]
  },
  {
   "cell_type": "code",
   "execution_count": 8,
   "id": "9e7a6902",
   "metadata": {},
   "outputs": [
    {
     "data": {
      "text/html": [],
      "text/plain": [
       "Quat{Float64}(-1.0, 1.0, 0.0, -2.0)"
      ]
     },
     "execution_count": 8,
     "metadata": {},
     "output_type": "execute_result"
    },
    {
     "name": "stdout",
     "output_type": "stream",
     "text": [
      "-1+i-2.0k"
     ]
    }
   ],
   "source": [
    "-1+ii-2kk"
   ]
  },
  {
   "cell_type": "code",
   "execution_count": 9,
   "id": "e064bf7a",
   "metadata": {},
   "outputs": [
    {
     "data": {
      "text/html": [],
      "text/plain": [
       "Quat{Float64}(0.0, 1.0, -1.0, 0.0)"
      ]
     },
     "execution_count": 9,
     "metadata": {},
     "output_type": "execute_result"
    },
    {
     "name": "stdout",
     "output_type": "stream",
     "text": [
      "i-j"
     ]
    }
   ],
   "source": [
    "-jj+ii"
   ]
  },
  {
   "cell_type": "code",
   "execution_count": 10,
   "id": "1fd4e0e3",
   "metadata": {},
   "outputs": [
    {
     "data": {
      "text/html": [],
      "text/plain": [
       "Quat{Float64}(0.0, 1.0, 1.0, -1.0)"
      ]
     },
     "execution_count": 10,
     "metadata": {},
     "output_type": "execute_result"
    },
    {
     "name": "stdout",
     "output_type": "stream",
     "text": [
      "i+j-k"
     ]
    }
   ],
   "source": [
    "jj+1+ii-1-kk"
   ]
  },
  {
   "cell_type": "code",
   "execution_count": 11,
   "id": "39c3d868",
   "metadata": {},
   "outputs": [
    {
     "data": {
      "text/plain": [
       "(Quat{Float64}(0.38139864392842515, -0.7416712824768354, -0.6147855463537208, -0.44022266554692924), Quat{Float64}(-0.3065399035017755, -0.578418438180472, 0.5254487668700807, 0.13417097970721792), Quat{Float64}(-0.7467118302385214, -0.5540677651398169, -0.17121962572563554, 0.42602203801893235))"
      ]
     },
     "execution_count": 11,
     "metadata": {},
     "output_type": "execute_result"
    }
   ],
   "source": [
    "q1, q2, q3 = random_quat(), random_quat(), random_quat()"
   ]
  },
  {
   "cell_type": "code",
   "execution_count": 12,
   "id": "7d6cc7c5",
   "metadata": {},
   "outputs": [
    {
     "data": {
      "text/html": [],
      "text/plain": [
       "Quat{Float64}(0.5739604350803262, 0.19538420353796768, -0.28320906776249793, 0.7328106717806498)"
      ]
     },
     "execution_count": 12,
     "metadata": {},
     "output_type": "execute_result"
    },
    {
     "name": "stdout",
     "output_type": "stream",
     "text": [
      "0.5739604350803262+0.19538420353796768i-0.28320906776249793j+0.7328106717806498k"
     ]
    }
   ],
   "source": [
    "q1*(q2*q3)"
   ]
  },
  {
   "cell_type": "code",
   "execution_count": 13,
   "id": "f1d1e056",
   "metadata": {},
   "outputs": [
    {
     "data": {
      "text/html": [],
      "text/plain": [
       "Quat{Float64}(0.573960435080326, 0.19538420353796765, -0.28320906776249793, 0.7328106717806497)"
      ]
     },
     "execution_count": 13,
     "metadata": {},
     "output_type": "execute_result"
    },
    {
     "name": "stdout",
     "output_type": "stream",
     "text": [
      "0.573960435080326+0.19538420353796765i-0.28320906776249793j+0.7328106717806497k"
     ]
    }
   ],
   "source": [
    "(q1*q2)*q3"
   ]
  },
  {
   "cell_type": "code",
   "execution_count": 14,
   "id": "2d64d74e",
   "metadata": {},
   "outputs": [
    {
     "data": {
      "text/html": [],
      "text/plain": [
       "Quat{Float64}(0.00879374801504424, -0.15507255792107713, -0.010494501013204746, -0.035952266756224906)"
      ]
     },
     "execution_count": 14,
     "metadata": {},
     "output_type": "execute_result"
    },
    {
     "name": "stdout",
     "output_type": "stream",
     "text": [
      "0.00879374801504424-0.15507255792107713i-0.010494501013204746j-0.035952266756224906k"
     ]
    }
   ],
   "source": [
    "x = rand(); x*(q1+q2)"
   ]
  },
  {
   "cell_type": "code",
   "execution_count": 15,
   "id": "cb244856",
   "metadata": {},
   "outputs": [
    {
     "data": {
      "text/html": [],
      "text/plain": [
       "Quat{Float64}(0.00879374801504424, -0.15507255792107713, -0.010494501013204746, -0.0359522667562249)"
      ]
     },
     "execution_count": 15,
     "metadata": {},
     "output_type": "execute_result"
    },
    {
     "name": "stdout",
     "output_type": "stream",
     "text": [
      "0.00879374801504424-0.15507255792107713i-0.010494501013204746j-0.0359522667562249k"
     ]
    }
   ],
   "source": [
    "x*q1+x*q2"
   ]
  },
  {
   "cell_type": "code",
   "execution_count": 16,
   "id": "b3f9c725",
   "metadata": {},
   "outputs": [
    {
     "ename": "LoadError",
     "evalue": "MethodError: no method matching ^(::Quat{Float64}, ::Int64)\n\u001b[0mClosest candidates are:\n\u001b[0m  ^(\u001b[91m::Union{AbstractChar, AbstractString}\u001b[39m, ::Integer) at /usr/local/lib/julia-1.7.2/share/julia/base/strings/basic.jl:721\n\u001b[0m  ^(\u001b[91m::Rational\u001b[39m, ::Integer) at /usr/local/lib/julia-1.7.2/share/julia/base/rational.jl:475\n\u001b[0m  ^(\u001b[91m::LinearAlgebra.Diagonal\u001b[39m, ::Integer) at /usr/local/lib/julia-1.7.2/share/julia/stdlib/v1.7/LinearAlgebra/src/diagonal.jl:196\n\u001b[0m  ...",
     "output_type": "error",
     "traceback": [
      "MethodError: no method matching ^(::Quat{Float64}, ::Int64)\n\u001b[0mClosest candidates are:\n\u001b[0m  ^(\u001b[91m::Union{AbstractChar, AbstractString}\u001b[39m, ::Integer) at /usr/local/lib/julia-1.7.2/share/julia/base/strings/basic.jl:721\n\u001b[0m  ^(\u001b[91m::Rational\u001b[39m, ::Integer) at /usr/local/lib/julia-1.7.2/share/julia/base/rational.jl:475\n\u001b[0m  ^(\u001b[91m::LinearAlgebra.Diagonal\u001b[39m, ::Integer) at /usr/local/lib/julia-1.7.2/share/julia/stdlib/v1.7/LinearAlgebra/src/diagonal.jl:196\n\u001b[0m  ...",
      "",
      "Stacktrace:",
      " [1] literal_pow",
      "   @ ./intfuncs.jl:325 [inlined]",
      " [2] literal_pow",
      "   @ ./intfuncs.jl:323 [inlined]",
      " [3] /(p::Quat{Float64}, q::Quat{Float64})",
      "   @ Main ./In[4]:77",
      " [4] top-level scope",
      "   @ In[16]:1",
      " [5] eval",
      "   @ ./boot.jl:373 [inlined]",
      " [6] include_string(mapexpr::typeof(REPL.softscope), mod::Module, code::String, filename::String)",
      "   @ Base ./loading.jl:1196"
     ]
    }
   ],
   "source": [
    "q1*(q1/q2)"
   ]
  },
  {
   "cell_type": "code",
   "execution_count": 17,
   "id": "c300fd39",
   "metadata": {},
   "outputs": [
    {
     "data": {
      "text/html": [],
      "text/plain": [
       "Quat{Float64}(-0.16380683481222044, 0.15557191311103555, 0.7430054184395928, -0.5591951132073205)"
      ]
     },
     "execution_count": 17,
     "metadata": {},
     "output_type": "execute_result"
    },
    {
     "name": "stdout",
     "output_type": "stream",
     "text": [
      "-0.16380683481222044+0.15557191311103555i+0.7430054184395928j-0.5591951132073205k"
     ]
    }
   ],
   "source": [
    "q1*q2"
   ]
  },
  {
   "cell_type": "code",
   "execution_count": 235,
   "id": "9d930197",
   "metadata": {},
   "outputs": [
    {
     "data": {
      "text/html": [],
      "text/plain": [
       "Quat{Float64}(0.7870304421717335, 0.45509663821677987, -0.1865108389088419, -0.36883694963319597)"
      ]
     },
     "execution_count": 235,
     "metadata": {},
     "output_type": "execute_result"
    },
    {
     "name": "stdout",
     "output_type": "stream",
     "text": [
      "0.7870304421717335+0.45509663821677987i-0.1865108389088419j-0.36883694963319597k"
     ]
    }
   ],
   "source": [
    "q2*q1"
   ]
  },
  {
   "cell_type": "code",
   "execution_count": 236,
   "id": "61b497e1",
   "metadata": {},
   "outputs": [
    {
     "data": {
      "text/plain": [
       "1.4142135623730951"
      ]
     },
     "execution_count": 236,
     "metadata": {},
     "output_type": "execute_result"
    }
   ],
   "source": [
    "norm(ii+kk)"
   ]
  },
  {
   "cell_type": "code",
   "execution_count": 237,
   "id": "d6c7c030",
   "metadata": {},
   "outputs": [
    {
     "data": {
      "text/plain": [
       "1.0"
      ]
     },
     "execution_count": 237,
     "metadata": {},
     "output_type": "execute_result"
    }
   ],
   "source": [
    "norm(q1/norm(q1))"
   ]
  },
  {
   "cell_type": "code",
   "execution_count": 238,
   "id": "e76966b8",
   "metadata": {},
   "outputs": [
    {
     "data": {
      "text/html": [],
      "text/plain": [
       "Quat{Float64}(0.0, -1.0, 0.0, 0.0)"
      ]
     },
     "execution_count": 238,
     "metadata": {},
     "output_type": "execute_result"
    },
    {
     "name": "stdout",
     "output_type": "stream",
     "text": [
      "-i"
     ]
    }
   ],
   "source": [
    "ii^0/ii"
   ]
  },
  {
   "cell_type": "code",
   "execution_count": 239,
   "id": "b8da58a7",
   "metadata": {},
   "outputs": [
    {
     "data": {
      "text/html": [],
      "text/plain": [
       "Quat{Int64}(1, 0, 0, 0)"
      ]
     },
     "execution_count": 239,
     "metadata": {},
     "output_type": "execute_result"
    },
    {
     "name": "stdout",
     "output_type": "stream",
     "text": [
      "1"
     ]
    }
   ],
   "source": [
    "ii^0"
   ]
  },
  {
   "cell_type": "code",
   "execution_count": 18,
   "id": "bc561527",
   "metadata": {},
   "outputs": [
    {
     "data": {
      "text/html": [],
      "text/plain": [
       "Quat{Float64}(0.3009540766559852, 0.585238043064371, 0.485115034858518, 0.34737094098734056)"
      ]
     },
     "execution_count": 18,
     "metadata": {},
     "output_type": "execute_result"
    },
    {
     "name": "stdout",
     "output_type": "stream",
     "text": [
      "0.3009540766559852+0.585238043064371i+0.485115034858518j+0.34737094098734056k"
     ]
    }
   ],
   "source": [
    "inv(q1)"
   ]
  },
  {
   "cell_type": "code",
   "execution_count": 21,
   "id": "d5f8941b",
   "metadata": {},
   "outputs": [
    {
     "data": {
      "text/html": [],
      "text/plain": [
       "Quat{Float64}(-0.9763686289270788, -0.565744842754642, -0.46895674737221016, -0.3358006553323109)"
      ]
     },
     "execution_count": 21,
     "metadata": {},
     "output_type": "execute_result"
    },
    {
     "name": "stdout",
     "output_type": "stream",
     "text": [
      "-0.9763686289270788-0.565744842754642i-0.46895674737221016j-0.3358006553323109k"
     ]
    }
   ],
   "source": [
    "q1^2"
   ]
  },
  {
   "cell_type": "code",
   "execution_count": null,
   "id": "04c9ae61",
   "metadata": {},
   "outputs": [],
   "source": []
  }
 ],
 "metadata": {
  "kernelspec": {
   "display_name": "Julia 1.7.2",
   "language": "julia",
   "name": "julia-1.7"
  },
  "language_info": {
   "file_extension": ".jl",
   "mimetype": "application/julia",
   "name": "julia",
   "version": "1.7.2"
  }
 },
 "nbformat": 4,
 "nbformat_minor": 5
}
