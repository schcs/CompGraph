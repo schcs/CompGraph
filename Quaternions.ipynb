{
 "cells": [
  {
   "cell_type": "code",
   "execution_count": 16,
   "id": "c675e522",
   "metadata": {},
   "outputs": [
    {
     "name": "stderr",
     "output_type": "stream",
     "text": [
      "WARNING: using LinearAlgebra.norm in module Main conflicts with an existing identifier.\n"
     ]
    },
    {
     "data": {
      "text/html": [],
      "text/plain": [
       "Quat{Float64}(0.0, 0.0, 0.0, 1.0)"
      ]
     },
     "execution_count": 16,
     "metadata": {},
     "output_type": "execute_result"
    },
    {
     "name": "stdout",
     "output_type": "stream",
     "text": [
      "k"
     ]
    }
   ],
   "source": [
    "#using LinearAlgebra \n",
    "struct Quat{T}\n",
    "    sc::T\n",
    "    i::T\n",
    "    j::T\n",
    "    k::T\n",
    "end \n",
    "\n",
    "function Quat( a, b, c, d )\n",
    "    T = typeof( a )\n",
    "    return Quat{T}( a, b, c, d )\n",
    "end \n",
    "\n",
    "function Quat( a, b, c )\n",
    "    T = typeof( a )\n",
    "    return Quat{T}( 0, a, b, c )\n",
    "end \n",
    "\n",
    "\n",
    "function string_term( a, var; first = false )\n",
    "    if a == 0 \n",
    "        return \"\"\n",
    "    elseif a == 1 && var != \"\"\n",
    "        return (first ? \"\" : \"+\") * var\n",
    "    elseif a == 1 && var == \"\"\n",
    "        return (first ? \"\" : \"+\")*\"1\"\n",
    "    elseif a == -1 && var != \"\"\n",
    "        return \"-$(var)\"\n",
    "    elseif a == -1 && var == \"\"\n",
    "        return \"-1\"\n",
    "    else\n",
    "        return (first || a < 0 ? \"\" : \"+\" ) * \"$a$(var)\"\n",
    "    end\n",
    "end\n",
    "\n",
    "function Base.show(io::IO, m::MIME\"text/html\", q::Quat) \n",
    "    \n",
    "    if q.sc == 0 && q.i == 0 && q.j == 0 && q.k == 0\n",
    "        print( \"0\" )\n",
    "    end \n",
    "        \n",
    "    str = string_term( q.sc, \"\"; first = true )\n",
    "    str *= string_term( q.i, \"i\"; first = length( str ) == 0 )\n",
    "    str *= string_term( q.j, \"j\"; first = length( str ) == 0 )\n",
    "    str *= string_term( q.k, \"k\"; first = length( str ) == 0 )\n",
    "    \n",
    "    print( str )\n",
    "end\n",
    "\n",
    "ii = Quat( 0.0, 1.0, 0.0, 0.0 )\n",
    "jj = Quat( 0.0, 0.0, 1.0, 0.0 )\n",
    "kk = Quat( 0.0, 0.0, 0.0, 1.0 )"
   ]
  },
  {
   "cell_type": "code",
   "execution_count": 110,
   "id": "a360138c",
   "metadata": {},
   "outputs": [
    {
     "data": {
      "text/plain": [
       "random_pure_quat (generic function with 1 method)"
      ]
     },
     "execution_count": 110,
     "metadata": {},
     "output_type": "execute_result"
    }
   ],
   "source": [
    "function Base.:+( p::Quat, q::Quat )\n",
    "    return Quat( p.sc+q.sc, p.i+q.i, p.j+q.j, p.k+q.k )\n",
    "end \n",
    "\n",
    "function Base.:+( a::Number, q::Quat )\n",
    "    return Quat( a+q.sc, q.i, q.j, q.k )\n",
    "end \n",
    "\n",
    "function Base.:+( q::Quat, a::Number )\n",
    "    return a+q\n",
    "end \n",
    "\n",
    "function Base.:*( p::Quat, q::Quat )\n",
    "    return Quat( p.sc*q.sc-p.i*q.i-p.j*q.j-p.k*q.k, \n",
    "                 p.sc*q.i+p.i*q.sc+p.j*q.k-p.k*q.j,\n",
    "                 p.sc*q.j+p.j*q.sc+p.k*q.i-p.i*q.k,\n",
    "                 p.sc*q.k+p.k*q.sc+p.i*q.j-p.j*q.i )      \n",
    "end \n",
    "\n",
    "function Base.:-( a::Number, q::Quat )\n",
    "    return Quat( a-q.sc, -q.i, -q.j, -q.k )\n",
    "end \n",
    "\n",
    "function Base.:-( q::Quat, a::Number )\n",
    "    return Quat( q.sc-a, q.i, q.j, q.k )\n",
    "end \n",
    "\n",
    "\n",
    "function Base.:*( a::Number, q::Quat )\n",
    "    return Quat( a*(q.sc), a*(q.i), a*(q.j), a*(q.k) )\n",
    "end \n",
    "\n",
    "function Base.:-( q::Quat )\n",
    "    return -1*q\n",
    "end\n",
    "\n",
    "function Base.:-( p::Quat, q::Quat )\n",
    "    return p+(-1)*q\n",
    "end\n",
    "\n",
    "function Base.:/( p::Quat, a::Number )\n",
    "    return (1/a)*p\n",
    "end\n",
    "\n",
    "function conjugate( q::Quat )\n",
    "    return Quat( q.sc, -q.i, -q.j, -q.k )\n",
    "end \n",
    "\n",
    "function norm( q::Quat )\n",
    "    return (q.sc^2+q.i^2+q.j^2+q.k^2)^(1/2)\n",
    "end\n",
    "\n",
    "function Base.inv( q::Quat )\n",
    "    return conjugate( q )/(norm( q )^2)\n",
    "end \n",
    "\n",
    "function Base.:^( p::Quat, n::Integer )\n",
    "    \n",
    "    if n == 0\n",
    "        return Quat( 1,0,0,0 )\n",
    "    elseif n == 1\n",
    "        return p\n",
    "    elseif n > 1\n",
    "        return prod( p for i in 1:n )\n",
    "    elseif n == -1\n",
    "        return inv( p )\n",
    "    elseif n < -1\n",
    "        pinv = inv( p )\n",
    "        return prod( pinv for i in 1:-n )\n",
    "    else \n",
    "        throw( \"invalid exponent\" )\n",
    "    end \n",
    "end\n",
    "\n",
    "\n",
    "function Base.:/( p::Quat, q::Quat )\n",
    "    return p*q^-1\n",
    "end\n",
    "\n",
    "function dotprod( u::Quat, v::Quat )\n",
    "    return u.sc*v.sc+u.i*v.i+u.j*v.j+u.k*v.k\n",
    "end\n",
    "\n",
    "function crossprod( u::Quat, v::Quat )\n",
    "    return Quat( 0.0, u.j*v.k-u.k*v.j, -u.i*v.k+u.k*v.i, u.i*v.j-u.j*v.i )\n",
    "end\n",
    "\n",
    "function angle( u::Quat, v::Quat )\n",
    "    \n",
    "    alpha = acos( dotprod( u, v ))\n",
    "    if !isapprox( sin( alpha ), norm( crossprod( u, v ))) \n",
    "        alpha *= -1\n",
    "    end \n",
    "    return alpha\n",
    "end \n",
    "\n",
    "random_quat() = Quat( [ 2*(rand()-.5) for i in 1:4 ]... )\n",
    "random_pure_quat() = Quat( [ 2*(rand()-.5) for i in 1:3 ]... )"
   ]
  },
  {
   "cell_type": "code",
   "execution_count": 3,
   "id": "1e5f8b02",
   "metadata": {},
   "outputs": [
    {
     "data": {
      "text/plain": [
       "quat (generic function with 1 method)"
      ]
     },
     "execution_count": 3,
     "metadata": {},
     "output_type": "execute_result"
    }
   ],
   "source": [
    "quat( theta, u0 ) = cos(theta)+sin(theta)u0"
   ]
  },
  {
   "cell_type": "code",
   "execution_count": 114,
   "id": "5812a207",
   "metadata": {},
   "outputs": [
    {
     "data": {
      "text/html": [],
      "text/plain": [
       "Quat{Float64}(0.8772364604283802, 0.20078878097532912, -0.2133123274535374, -0.38031290917596156)"
      ]
     },
     "execution_count": 114,
     "metadata": {},
     "output_type": "execute_result"
    },
    {
     "name": "stdout",
     "output_type": "stream",
     "text": [
      "0.8772364604283802+0.20078878097532912i-0.2133123274535374j-0.38031290917596156k"
     ]
    }
   ],
   "source": [
    "u0 =  random_pure_quat( )\n",
    "u0 = u0/norm(u0)\n",
    "theta = 2*pi*rand()\n",
    "u = quat( theta, u0 )\n",
    "\n",
    "v0 =  random_pure_quat( )\n",
    "v0 = v0/norm(v0)\n",
    "beta = 2*pi*rand()\n",
    "v = quat( beta, v0 )\n"
   ]
  },
  {
   "cell_type": "code",
   "execution_count": 115,
   "id": "4a757cdd",
   "metadata": {},
   "outputs": [
    {
     "data": {
      "text/plain": [
       "1.0"
      ]
     },
     "execution_count": 115,
     "metadata": {},
     "output_type": "execute_result"
    }
   ],
   "source": [
    "norm(u)"
   ]
  },
  {
   "cell_type": "code",
   "execution_count": 116,
   "id": "c91b6d5e",
   "metadata": {},
   "outputs": [
    {
     "data": {
      "text/plain": [
       "0.3887840414484012"
      ]
     },
     "execution_count": 116,
     "metadata": {},
     "output_type": "execute_result"
    }
   ],
   "source": [
    "dotprod(u,v)"
   ]
  },
  {
   "cell_type": "code",
   "execution_count": 117,
   "id": "0ba4f965",
   "metadata": {},
   "outputs": [
    {
     "data": {
      "text/html": [],
      "text/plain": [
       "Quat{Float64}(0.0, -0.6883851176815751, 0.4158837708611185, -0.5942782335647677)"
      ]
     },
     "execution_count": 117,
     "metadata": {},
     "output_type": "execute_result"
    },
    {
     "name": "stdout",
     "output_type": "stream",
     "text": [
      "-0.6883851176815751i+0.4158837708611185j-0.5942782335647677k"
     ]
    }
   ],
   "source": [
    "w=u*v\n",
    "cosa = w.sc\n",
    "w0 = w-w.sc\n",
    "sena = norm(w0)\n",
    "w0 = w0/sena"
   ]
  },
  {
   "cell_type": "code",
   "execution_count": 118,
   "id": "626ffea2",
   "metadata": {},
   "outputs": [
    {
     "data": {
      "text/html": [],
      "text/plain": [
       "Quat{Float64}(0.0, -0.6883851176815751, 0.4158837708611185, -0.5942782335647677)"
      ]
     },
     "execution_count": 118,
     "metadata": {},
     "output_type": "execute_result"
    },
    {
     "name": "stdout",
     "output_type": "stream",
     "text": [
      "-0.6883851176815751i+0.4158837708611185j-0.5942782335647677k"
     ]
    }
   ],
   "source": [
    "w0"
   ]
  },
  {
   "cell_type": "code",
   "execution_count": 119,
   "id": "eac93cd0",
   "metadata": {},
   "outputs": [
    {
     "data": {
      "text/plain": [
       "1.1102230246251565e-16"
      ]
     },
     "execution_count": 119,
     "metadata": {},
     "output_type": "execute_result"
    }
   ],
   "source": [
    "cosa-(cos(theta)*cos(beta)-sin(theta)*sin(beta)*dotprod(u0,v0))"
   ]
  },
  {
   "cell_type": "code",
   "execution_count": 120,
   "id": "e2de6d02",
   "metadata": {},
   "outputs": [
    {
     "data": {
      "text/plain": [
       "0.8772364604283802"
      ]
     },
     "execution_count": 120,
     "metadata": {},
     "output_type": "execute_result"
    }
   ],
   "source": [
    "cos(beta)"
   ]
  },
  {
   "cell_type": "code",
   "execution_count": 121,
   "id": "67044dea",
   "metadata": {},
   "outputs": [
    {
     "data": {
      "text/html": [],
      "text/plain": [
       "Quat{Float64}(-0.4503991052973599, 0.7595766251579562, 0.4439261374225328, 0.15203151309546914)"
      ]
     },
     "execution_count": 121,
     "metadata": {},
     "output_type": "execute_result"
    },
    {
     "name": "stdout",
     "output_type": "stream",
     "text": [
      "-0.4503991052973599+0.7595766251579562i+0.4439261374225328j+0.15203151309546914k"
     ]
    }
   ],
   "source": [
    "u0*v0"
   ]
  },
  {
   "cell_type": "code",
   "execution_count": 129,
   "id": "bf7db325",
   "metadata": {},
   "outputs": [
    {
     "data": {
      "text/plain": [
       "s (generic function with 1 method)"
      ]
     },
     "execution_count": 129,
     "metadata": {},
     "output_type": "execute_result"
    }
   ],
   "source": [
    "function s(t,b,u0,v0) \n",
    "    phi = angle( u0, v0 )\n",
    "    sin(t)^2*sin(b)^2*sin(phi)^2+sin(t+b)^2+(cos(t-b)^2-cos(t+b)^2)*(dotprod(u0,v0)-1)/2\n",
    "    #sin(t)^2*sin(b)^2*sin(phi)^2+cos(t)^2*sin(b)^2+cos(b)^2*sin(t)^2+2*cos(t)*sin(t)*cos(b)*sin(b)*cos(phi)\n",
    "end \n"
   ]
  },
  {
   "cell_type": "code",
   "execution_count": 130,
   "id": "31d9a4a2",
   "metadata": {},
   "outputs": [
    {
     "data": {
      "text/plain": [
       "c (generic function with 1 method)"
      ]
     },
     "execution_count": 130,
     "metadata": {},
     "output_type": "execute_result"
    }
   ],
   "source": [
    "c(t,b,u0,v0) = (cos(t)*cos(b)-sin(t)*sin(b)*dotprod(u0,v0))"
   ]
  },
  {
   "cell_type": "code",
   "execution_count": 131,
   "id": "5645021f",
   "metadata": {},
   "outputs": [
    {
     "data": {
      "text/plain": [
       "0.4768950509175359"
      ]
     },
     "execution_count": 131,
     "metadata": {},
     "output_type": "execute_result"
    }
   ],
   "source": [
    "s(theta,beta,u0,v0)"
   ]
  },
  {
   "cell_type": "code",
   "execution_count": 125,
   "id": "c6c19d38",
   "metadata": {},
   "outputs": [
    {
     "data": {
      "text/plain": [
       "0.47689505091753576"
      ]
     },
     "execution_count": 125,
     "metadata": {},
     "output_type": "execute_result"
    }
   ],
   "source": [
    "norm(w-w.sc)^2"
   ]
  },
  {
   "cell_type": "code",
   "execution_count": 143,
   "id": "87d21fff",
   "metadata": {},
   "outputs": [
    {
     "data": {
      "text/plain": [
       "ww (generic function with 1 method)"
      ]
     },
     "execution_count": 143,
     "metadata": {},
     "output_type": "execute_result"
    }
   ],
   "source": [
    "function a(t,b,u0,v0) \n",
    "    phi = angle(u0,v0)\n",
    "    return cos(t)*cos(b)-sin(t)*sin(b)*cos(phi)\n",
    "end \n",
    "\n",
    "function b(t,b,u0,v0)\n",
    "    phi = angle(u0,v0)\n",
    "    return (sin(t)^2*sin(b)^2*sin(phi)^2+sin(t+b)^2+(cos(t-b)^2-cos(t+b)^2)*(cos(phi)-1)/2)^(1/2)\n",
    "end \n",
    "\n",
    "function ww( t, b, u0, v0 )\n",
    "    \n",
    "    return cos(t)*sin(b)*v0+cos(b)*sin(t)*u0+sin(t)*sin(b)*crossprod(u0,v0)\n",
    "end"
   ]
  },
  {
   "cell_type": "code",
   "execution_count": 144,
   "id": "28d9767c",
   "metadata": {},
   "outputs": [
    {
     "data": {
      "text/html": [],
      "text/plain": [
       "Quat{Float64}(0.7232599457197008, -0.4753821608539977, 0.28719930250949843, -0.4103942162084855)"
      ]
     },
     "execution_count": 144,
     "metadata": {},
     "output_type": "execute_result"
    },
    {
     "name": "stdout",
     "output_type": "stream",
     "text": [
      "0.7232599457197008-0.4753821608539977i+0.28719930250949843j-0.4103942162084855k"
     ]
    }
   ],
   "source": [
    "w = u*v"
   ]
  },
  {
   "cell_type": "code",
   "execution_count": 145,
   "id": "498016b7",
   "metadata": {},
   "outputs": [
    {
     "data": {
      "text/plain": [
       "0.7232599457197006"
      ]
     },
     "execution_count": 145,
     "metadata": {},
     "output_type": "execute_result"
    }
   ],
   "source": [
    "a(theta,beta,u0,v0)"
   ]
  },
  {
   "cell_type": "code",
   "execution_count": 146,
   "id": "e2132507",
   "metadata": {},
   "outputs": [
    {
     "data": {
      "text/html": [],
      "text/plain": [
       "Quat{Float64}(0.0, -0.47538216085399776, 0.2871993025094986, -0.4103942162084855)"
      ]
     },
     "execution_count": 146,
     "metadata": {},
     "output_type": "execute_result"
    },
    {
     "name": "stdout",
     "output_type": "stream",
     "text": [
      "-0.47538216085399776i+0.2871993025094986j-0.4103942162084855k"
     ]
    }
   ],
   "source": [
    "ww(theta,beta,u0,v0)"
   ]
  },
  {
   "cell_type": "code",
   "execution_count": 147,
   "id": "bad44c7d",
   "metadata": {},
   "outputs": [
    {
     "data": {
      "text/plain": [
       "0.6905758835331102"
      ]
     },
     "execution_count": 147,
     "metadata": {},
     "output_type": "execute_result"
    }
   ],
   "source": [
    "norm(w-w.sc)"
   ]
  },
  {
   "cell_type": "code",
   "execution_count": 148,
   "id": "2dd433ae",
   "metadata": {},
   "outputs": [
    {
     "data": {
      "text/plain": [
       "0.6905758835331103"
      ]
     },
     "execution_count": 148,
     "metadata": {},
     "output_type": "execute_result"
    }
   ],
   "source": [
    "b(theta,beta,u0,v0)"
   ]
  },
  {
   "cell_type": "code",
   "execution_count": null,
   "id": "04875578",
   "metadata": {},
   "outputs": [],
   "source": []
  }
 ],
 "metadata": {
  "kernelspec": {
   "display_name": "Julia 1.7.2",
   "language": "julia",
   "name": "julia-1.7"
  },
  "language_info": {
   "file_extension": ".jl",
   "mimetype": "application/julia",
   "name": "julia",
   "version": "1.7.2"
  }
 },
 "nbformat": 4,
 "nbformat_minor": 5
}
