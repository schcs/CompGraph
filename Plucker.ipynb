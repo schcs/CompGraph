{
 "cells": [
  {
   "cell_type": "code",
   "execution_count": 9,
   "id": "d0456115",
   "metadata": {},
   "outputs": [],
   "source": [
    "using Gadfly, LinearAlgebra"
   ]
  },
  {
   "cell_type": "code",
   "execution_count": 43,
   "id": "e1c7b0fa",
   "metadata": {},
   "outputs": [
    {
     "data": {
      "text/plain": [
       "com_point (generic function with 1 method)"
      ]
     },
     "execution_count": 43,
     "metadata": {},
     "output_type": "execute_result"
    }
   ],
   "source": [
    "plucker((a,b,c,d),(u,v,w,z)) = ( a*v-b*u, a*w-c*u, a*z-d*u, c*z-d*w, d*v-b*z, b*w-c*v )\n",
    "dif((a,b,c,d),(u,v,w,z)) = (a/d-u/z, b/d-u/z, c/d-w/z)\n",
    "cr((a,b,c,d),(u,v,w,z)) = LinearAlgebra.cross([a/d,b/d,c/d],[u/z,v/z,w/z])"
   ]
  },
  {
   "cell_type": "code",
   "execution_count": 79,
   "id": "62e0a6e6",
   "metadata": {},
   "outputs": [
    {
     "data": {
      "text/plain": [
       "com_point (generic function with 1 method)"
      ]
     },
     "execution_count": 79,
     "metadata": {},
     "output_type": "execute_result"
    }
   ],
   "source": [
    "function com_point((a12,a13,a14,a34,a42,a23),(b12,b13,b14,b34,b42,b23))\n",
    "    \n",
    "    (a21, a31, a41, a43, a24, a32) = (-a12,-a13,-a14,-a34,-a42,-a23)\n",
    "    (b21, b31, b41, b43, b24, b32) = (-b12,-b13,-b14,-b34,-b42,-b23)\n",
    "    \n",
    "    c1 = LinearAlgebra.cross([b34,b42,b23],[a34,a42,a23])\n",
    "    c2 = -LinearAlgebra.cross([b43,b14,b31],[a43,a14,a31])\n",
    "    c3 = LinearAlgebra.cross([b24,b41,b12],[a24,a41,a12])\n",
    "    c4 = -LinearAlgebra.cross([b32,b13,b21],[a32,a13,a21])\n",
    "    d1 = dot([a12,a13,a14],[b34,b42,b23])\n",
    "    d2 = dot([a21,a23,a24],[b43,b14,b31])\n",
    "    d3 = dot([a31,a32,a34],[b24,b41,b12])\n",
    "    d4 = dot([a41,a42,a43],[b32,b13,b21])\n",
    "    \n",
    "    return (d1,c1...), (c2[1],d2,c2[2],c2[3]), (c3[1],c3[2],d3,c3[3]), (c4[1],c4[2],c4[3],d4)\n",
    "    \n",
    "end\n",
    "        "
   ]
  },
  {
   "cell_type": "code",
   "execution_count": 71,
   "id": "f4ecb0ac",
   "metadata": {},
   "outputs": [
    {
     "data": {
      "text/plain": [
       "(8, -7, 4, -1, 0, 2)"
      ]
     },
     "execution_count": 71,
     "metadata": {},
     "output_type": "execute_result"
    }
   ],
   "source": [
    "a, b = (1,2,-2,1), (-3,2,-1,1)\n",
    "plucker( a, b )"
   ]
  },
  {
   "cell_type": "code",
   "execution_count": 72,
   "id": "0e62073e",
   "metadata": {},
   "outputs": [
    {
     "data": {
      "text/plain": [
       "(4.0, 5.0, -1.0)"
      ]
     },
     "execution_count": 72,
     "metadata": {},
     "output_type": "execute_result"
    }
   ],
   "source": [
    "dif(a,b)"
   ]
  },
  {
   "cell_type": "code",
   "execution_count": 73,
   "id": "d6efebf8",
   "metadata": {},
   "outputs": [
    {
     "data": {
      "text/plain": [
       "3-element Vector{Float64}:\n",
       " 2.0\n",
       " 7.0\n",
       " 8.0"
      ]
     },
     "execution_count": 73,
     "metadata": {},
     "output_type": "execute_result"
    }
   ],
   "source": [
    "cr(a,b)"
   ]
  },
  {
   "cell_type": "code",
   "execution_count": 74,
   "id": "9829f9a0",
   "metadata": {},
   "outputs": [
    {
     "data": {
      "text/plain": [
       "(-4, -14, 0, 7, -2, -7)"
      ]
     },
     "execution_count": 74,
     "metadata": {},
     "output_type": "execute_result"
    }
   ],
   "source": [
    "a = (2,3,7,1); b = (2,1,0,1)\n",
    "plucker(a,b)"
   ]
  },
  {
   "cell_type": "code",
   "execution_count": 75,
   "id": "4182de7a",
   "metadata": {},
   "outputs": [
    {
     "data": {
      "text/plain": [
       "(0.0, 1.0, 7.0)"
      ]
     },
     "execution_count": 75,
     "metadata": {},
     "output_type": "execute_result"
    }
   ],
   "source": [
    "dif(a,b)"
   ]
  },
  {
   "cell_type": "code",
   "execution_count": 76,
   "id": "35e52ebc",
   "metadata": {},
   "outputs": [
    {
     "data": {
      "text/plain": [
       "3-element Vector{Float64}:\n",
       " -7.0\n",
       " 14.0\n",
       " -4.0"
      ]
     },
     "execution_count": 76,
     "metadata": {},
     "output_type": "execute_result"
    }
   ],
   "source": [
    "cr(a,b)"
   ]
  },
  {
   "cell_type": "code",
   "execution_count": 120,
   "id": "3cb94cdb",
   "metadata": {},
   "outputs": [
    {
     "data": {
      "text/plain": [
       "((-20, -40, 20, -140), (32, 64, -32, 224), (44, 88, -44, 308), (0, 0, 0, 0))"
      ]
     },
     "execution_count": 120,
     "metadata": {},
     "output_type": "execute_result"
    }
   ],
   "source": [
    "a = [1,2,-1,-1]; b = [1,2,-1,3]; c = [5,-1,3,4]\n",
    "d = [-4,3,-4,3]\n",
    "d1 = rand()*a+rand()*b\n",
    "d2 = rand()*a+rand()*c\n",
    "L1 = plucker( a, b )\n",
    "L2 = plucker( c, d )\n",
    "p = com_point( L1, L2 )\n"
   ]
  },
  {
   "cell_type": "code",
   "execution_count": 124,
   "id": "912640fe",
   "metadata": {},
   "outputs": [
    {
     "data": {
      "text/plain": [
       "(11, -8, 31, 25, 15, -5)"
      ]
     },
     "execution_count": 124,
     "metadata": {},
     "output_type": "execute_result"
    }
   ],
   "source": [
    "L2"
   ]
  },
  {
   "cell_type": "code",
   "execution_count": 49,
   "id": "09652017",
   "metadata": {},
   "outputs": [
    {
     "data": {
      "text/plain": [
       "4-element Vector{Int64}:\n",
       "  82\n",
       " 123\n",
       " 123\n",
       " -82"
      ]
     },
     "execution_count": 49,
     "metadata": {},
     "output_type": "execute_result"
    }
   ],
   "source": [
    "41*[a...]"
   ]
  },
  {
   "cell_type": "code",
   "execution_count": 52,
   "id": "d85acc3e",
   "metadata": {},
   "outputs": [
    {
     "ename": "LoadError",
     "evalue": "MethodError: no method matching -(::NTuple{4, Int64})\n\u001b[0mClosest candidates are:\n\u001b[0m  -(::Any, \u001b[91m::ChainRulesCore.AbstractThunk\u001b[39m) at ~/.julia/packages/ChainRulesCore/C73ay/src/tangent_types/thunks.jl:35\n\u001b[0m  -(::Any, \u001b[91m::ChainRulesCore.ZeroTangent\u001b[39m) at ~/.julia/packages/ChainRulesCore/C73ay/src/tangent_arithmetic.jl:102\n\u001b[0m  -(::Any, \u001b[91m::ChainRulesCore.NoTangent\u001b[39m) at ~/.julia/packages/ChainRulesCore/C73ay/src/tangent_arithmetic.jl:62\n\u001b[0m  ...",
     "output_type": "error",
     "traceback": [
      "MethodError: no method matching -(::NTuple{4, Int64})\n\u001b[0mClosest candidates are:\n\u001b[0m  -(::Any, \u001b[91m::ChainRulesCore.AbstractThunk\u001b[39m) at ~/.julia/packages/ChainRulesCore/C73ay/src/tangent_types/thunks.jl:35\n\u001b[0m  -(::Any, \u001b[91m::ChainRulesCore.ZeroTangent\u001b[39m) at ~/.julia/packages/ChainRulesCore/C73ay/src/tangent_arithmetic.jl:102\n\u001b[0m  -(::Any, \u001b[91m::ChainRulesCore.NoTangent\u001b[39m) at ~/.julia/packages/ChainRulesCore/C73ay/src/tangent_arithmetic.jl:62\n\u001b[0m  ...",
      "",
      "Stacktrace:",
      " [1] top-level scope",
      "   @ In[52]:1",
      " [2] eval",
      "   @ ./boot.jl:373 [inlined]",
      " [3] include_string(mapexpr::typeof(REPL.softscope), mod::Module, code::String, filename::String)",
      "   @ Base ./loading.jl:1196"
     ]
    }
   ],
   "source": [
    "-a"
   ]
  },
  {
   "cell_type": "code",
   "execution_count": 91,
   "id": "a96f8941",
   "metadata": {},
   "outputs": [
    {
     "data": {
      "text/plain": [
       "4-element Vector{Int64}:\n",
       "  5\n",
       " -1\n",
       "  3\n",
       "  4"
      ]
     },
     "execution_count": 91,
     "metadata": {},
     "output_type": "execute_result"
    }
   ],
   "source": [
    "a = [1,2,-1,-1]; b = [1,2,-1,0]; c = [5,-1,3,4]"
   ]
  },
  {
   "cell_type": "code",
   "execution_count": 97,
   "id": "9001af95",
   "metadata": {},
   "outputs": [
    {
     "data": {
      "text/plain": [
       "(-11, 8, 9, -1, -7, 5)"
      ]
     },
     "execution_count": 97,
     "metadata": {},
     "output_type": "execute_result"
    }
   ],
   "source": [
    "(a12,a13,a14,a34,a42,a23) = plucker( a, b )\n",
    "(b12,b13,b14,b34,b42,b23) = plucker( a, c )"
   ]
  },
  {
   "cell_type": "code",
   "execution_count": 98,
   "id": "a88e65a5",
   "metadata": {},
   "outputs": [
    {
     "data": {
      "text/plain": [
       "((5, 10, -5, -5), (-8, -16, 8, 8), (-11, -22, 11, 11), (0, 0, 0, 0))"
      ]
     },
     "execution_count": 98,
     "metadata": {},
     "output_type": "execute_result"
    }
   ],
   "source": [
    "com_point( L1, L2 )"
   ]
  },
  {
   "cell_type": "code",
   "execution_count": 99,
   "id": "d7140efd",
   "metadata": {},
   "outputs": [
    {
     "data": {
      "text/plain": [
       "5"
      ]
     },
     "execution_count": 99,
     "metadata": {},
     "output_type": "execute_result"
    }
   ],
   "source": [
    "a12*b34+a13*b42+a14*b23"
   ]
  },
  {
   "cell_type": "code",
   "execution_count": 100,
   "id": "2aafa332",
   "metadata": {},
   "outputs": [
    {
     "data": {
      "text/plain": [
       "10"
      ]
     },
     "execution_count": 100,
     "metadata": {},
     "output_type": "execute_result"
    }
   ],
   "source": [
    "-a42*b23+a23*b42"
   ]
  },
  {
   "cell_type": "code",
   "execution_count": 105,
   "id": "1d6e615d",
   "metadata": {},
   "outputs": [
    {
     "data": {
      "text/plain": [
       "5"
      ]
     },
     "execution_count": 105,
     "metadata": {},
     "output_type": "execute_result"
    }
   ],
   "source": [
    "alpha = b[2]*b34+b[3]*b42+b[4]*b23"
   ]
  },
  {
   "cell_type": "code",
   "execution_count": 106,
   "id": "657b3c2b",
   "metadata": {},
   "outputs": [
    {
     "data": {
      "text/plain": [
       "0"
      ]
     },
     "execution_count": 106,
     "metadata": {},
     "output_type": "execute_result"
    }
   ],
   "source": [
    "beta = a[2]*b34+a[3]*b42+a[4]*b23"
   ]
  },
  {
   "cell_type": "code",
   "execution_count": 110,
   "id": "f985669b",
   "metadata": {},
   "outputs": [
    {
     "data": {
      "text/plain": [
       "-5"
      ]
     },
     "execution_count": 110,
     "metadata": {},
     "output_type": "execute_result"
    }
   ],
   "source": [
    "alpha*a[4]+beta*b[4]"
   ]
  },
  {
   "cell_type": "code",
   "execution_count": 112,
   "id": "c80e300f",
   "metadata": {},
   "outputs": [
    {
     "data": {
      "text/plain": [
       "10"
      ]
     },
     "execution_count": 112,
     "metadata": {},
     "output_type": "execute_result"
    }
   ],
   "source": [
    "(b[4]*b23+b[3]*b42)*a[2]-(a[4]*b23+a[3]*b42)*b[2]"
   ]
  },
  {
   "cell_type": "code",
   "execution_count": 128,
   "id": "ac611d1c",
   "metadata": {},
   "outputs": [
    {
     "data": {
      "text/plain": [
       "(0, -1, -1, -1, 1, -1)"
      ]
     },
     "execution_count": 128,
     "metadata": {},
     "output_type": "execute_result"
    }
   ],
   "source": [
    "L1 = plucker((0,0,0,1),(1,1,1,1))\n",
    "L2 = plucker((0,0,1,1),(1,1,2,1))"
   ]
  },
  {
   "cell_type": "code",
   "execution_count": 129,
   "id": "354f36fc",
   "metadata": {},
   "outputs": [
    {
     "data": {
      "text/plain": [
       "((1, 1, 1, 0), (-1, -1, -1, 0), (0, 0, 0, 0), (0, 0, 0, 0))"
      ]
     },
     "execution_count": 129,
     "metadata": {},
     "output_type": "execute_result"
    }
   ],
   "source": [
    "com_point( L1, L2 )"
   ]
  },
  {
   "cell_type": "code",
   "execution_count": null,
   "id": "985069a7",
   "metadata": {},
   "outputs": [],
   "source": []
  }
 ],
 "metadata": {
  "kernelspec": {
   "display_name": "Julia 1.7.2",
   "language": "julia",
   "name": "julia-1.7"
  },
  "language_info": {
   "file_extension": ".jl",
   "mimetype": "application/julia",
   "name": "julia",
   "version": "1.7.2"
  }
 },
 "nbformat": 4,
 "nbformat_minor": 5
}
